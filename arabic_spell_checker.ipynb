{
 "cells": [
  {
   "cell_type": "code",
   "execution_count": 1,
   "id": "0d290d65",
   "metadata": {
    "id": "0d290d65"
   },
   "outputs": [],
   "source": [
    "import tensorflow as tf\n",
    "import time\n",
    "from tensorflow.keras.preprocessing.sequence import pad_sequences\n",
    "from tensorflow.keras.layers import Embedding, LSTM, Dense, Dropout, Bidirectional, concatenate\n",
    "from tensorflow.keras.preprocessing.text import Tokenizer\n",
    "from tensorflow.keras.models import Sequential\n",
    "from tensorflow.keras.optimizers import Adam\n",
    "from tensorflow.keras.losses import SparseCategoricalCrossentropy\n",
    "from tensorflow.keras import Input, Model\n",
    "from tensorflow.keras.callbacks import *\n",
    "from tensorflow.python.client import device_lib\n",
    "import numpy as np\n",
    "import re\n",
    "from tensorflow.keras.models import load_model\n",
    "import sys\n",
    "import string\n",
    "import nltk\n",
    "from nltk.stem.isri import ISRIStemmer"
   ]
  },
  {
   "cell_type": "code",
   "execution_count": null,
   "id": "79651b8c",
   "metadata": {
    "id": "79651b8c",
    "outputId": "4f113d40-f941-4848-9a98-c5402adc3911"
   },
   "outputs": [
    {
     "name": "stdout",
     "output_type": "stream",
     "text": [
      "first article in the dataset بين أستوديوهات ورزازات وصحراء مرزوكة وآثار وليلي ثم الرباط والبيضاء انتهى المخرج المغربي سهيل بن بركة من تصوير مشاهد عمله السينمائي الجديد الذي خصصه لتسليط الضوء عن حياة الجاسوس الإسباني دومينغو باديا الذي عاش فترة من القرن التاسع عشر بالمغرب باسم علي باي هذا الفيلم الذي اختار له مخرجه عنوان حلم خليفة يصور حياة علي باي العباسي الذي ما زال أحد أحياء طنجة يحمل اسمه عاش حياة فريدة متنكرا بشخصية تاجر عربي من سلالة الرسول صلى الله عليه وسلم فيما كان يعمل جاسوسا لحساب إسبانيا وكشف مخرج الفيلم سهيل بن بركة في تصريح لهسبريس أن الفيلم السينمائي دخل مرحلة التوضيب التي تتم خارج المغرب مبرزا أن الفيلم الذي يروي حياة الجاسوس الإسباني دومينغو باديا منذ أن قرر من طنجة بدء رحلاته نحو عدد من المناطق في العالم الإسلامي بداية القرن العشرين سيكون جاهزا بعد شهرين ويجمع الفيلم السينمائي عددا من الممثلين من مختلف الجنسيات واختار لدور البطولة الممثلة السينمائية الإيطالية كارولينا كريشنتيني للقيام بدور الإنجليزية الليدي هستر ستانهوب التي اشتهرت في الكتب الغربية بـ زنوبيا والتي عاشت بدورها بالدول العربية وارتبطت بعلي باي بعلاقة عاطفية إضافة إلى وجوه سينمائية معروفة وعن اختيار المخرج المغربي لحياة علي باي العباسي يوضح في تصريح لوكالة الأنباء الفرنسية هذه الشخصية عاشت أحداثا مشوقة كثيرة تستحق أن تسلط عليها الأضواء مشيرا إلى أن الفيلم سيحمل الكثير من المفاجآت لا سيما أن البطل قتل على يد امرأة دست له السم خلال رحلة الحج وأضاف شخصية طموحة وشجاعة ومثقفة ومذهلة في آن واحد كان يرى نفسه مستكشفا في أول الأمر نال علي باي إعجاب السلطان بعلمه فجعله من المقربين منه في ظرف وجيز ودعاه إلى اللحاق به إلى فاس وبرحيله إلى فاس تنتهي قصته مع طنجة وعاش علي باي العباسي بمدينة طنجة على أنه رجل مسلم أصله من الشام ونال ثقة الجميع في هذه المدينة حيث تم تشييد تمثال له في عروسة الشمال نظرا لتمكنه من بعض العلوم خاصة علم الفلك الذي مكنه من رصد كسوف الشمس الذي تزامن مع وجوده في طنجة فكان لعلمه دور كبير ساعده في إخفاء هويته كما أبان هذا الأمر أيضا عن تراجع كبير في ميدان العلم والمعرفة لدى المغاربة والمسلمين بصفة عامة\n"
     ]
    }
   ],
   "source": [
    "data_file = 'arabic_dataset_classifiction.csv'\n",
    "\n",
    "data = open(data_file, encoding='utf-8').read()\n",
    "corpus = data.lower().split(\"\\n\")\n",
    "print(\"first article in the dataset\",corpus[0])"
   ]
  },
  {
   "cell_type": "code",
   "execution_count": null,
   "id": "af3b0cc6",
   "metadata": {
    "id": "af3b0cc6"
   },
   "outputs": [],
   "source": [
    "import string\n",
    "\n",
    "def remove_repeated_characters(text):\n",
    "    cleaned_text = re.sub(r'([ء-ي])\\1{2,}', r'\\1', text)\n",
    "    return cleaned_text\n",
    "\n",
    "def clean_text(text):\n",
    "    clean = re.sub(r'\\.{2,}$',' .',text)\n",
    "    clean = re.sub(r'\\.{2,}',' ..',clean)\n",
    "    return clean\n",
    "\n",
    "def remove_english(text):\n",
    "\n",
    "    english_characters = re.compile(r'[a-zA-Z]')\n",
    "    text = re.sub(english_characters, '', text)\n",
    "\n",
    "    return text\n",
    "\n",
    "def remove_elongation(text):\n",
    "    cleaned_text =re.sub(r'([\\u0600-\\u06FF])ـــ*', r'\\1', text)\n",
    "    return cleaned_text\n",
    "\n",
    "def remove_diacritics(text):\n",
    "    arabic_diacritics = re.compile(\"\"\"\n",
    "                                \\u064E | #Fatha\n",
    "                                \\u064B | #Tanwin Fath\n",
    "                                \\u0650 | #Kasra\n",
    "                                \\u064D | #Tanwin Kasr\n",
    "                                \\u064F | #Damma\n",
    "                                \\u064C | #Tanwin Damm\n",
    "                                \\u0652 | #Sukun\n",
    "                                \\u0651 | #Shadda\n",
    "                                \\u0640 | #Tatwil/Kashida\n",
    "                             \"\"\", re.VERBOSE)\n",
    "\n",
    "    text = re.sub(arabic_diacritics, '', text)\n",
    "\n",
    "    return text\n",
    "\n",
    "def remove_spaces(text):\n",
    "    cleaned_text =re.sub(r'(\\s+)', ' ', text)\n",
    "    return cleaned_text\n",
    "\n",
    "def remove_punctuation(text):\n",
    "    arabic_punctuations =  '''`÷×؛<>_()*&^%][ـ،:\"؟.,'{}~¦+|!”…“–ـ/«»$£•●'''\n",
    "    english_punctuations = string.punctuation\n",
    "    numbers = \"1234567890١٢٣٤٥٦٧٨٩٠\"\n",
    "    bad_characters = \"�¿áóóó□\"\n",
    "    punctuations_list = arabic_punctuations + english_punctuations + numbers +  bad_characters\n",
    "\n",
    "    replace_slash = str.maketrans('/', ' ', '')\n",
    "    text = text.translate(replace_slash)\n",
    "    remove_punc = str.maketrans('', '', punctuations_list)\n",
    "    text = text.translate(remove_punc)\n",
    "\n",
    "    return text\n",
    "\n",
    "def remove_rlo_and_invisible_plus(text):\n",
    "    # Define a regular expression pattern to match the U+202E and U+2064 characters\n",
    "    unexpected_pattern = re.compile(r'[^\\w\\s.,!?]')\n",
    "\n",
    "    # Use the sub() function to replace matches with an empty string\n",
    "    cleaned_text = re.sub(unexpected_pattern, '', text)\n",
    "\n",
    "    return cleaned_text\n"
   ]
  },
  {
   "cell_type": "code",
   "execution_count": null,
   "id": "4e6b2a09",
   "metadata": {
    "id": "4e6b2a09",
    "outputId": "2377c588-0bec-44e2-86c4-4f11c7243548"
   },
   "outputs": [
    {
     "name": "stdout",
     "output_type": "stream",
     "text": [
      "\n",
      "Processed Sample Test 1 (Remove Repeated Characters):\n",
      "\n",
      "gynecomastia 2020-06-05 15:23:12 ... /اسئلة-طبية/جراحة \",جراحة-العظام \" \",جراحة-العظام د. ياسر  د ياسر  دياسر  د. ياسر الدباسي جراحة-العظام ٤٤٤٥٣١ ٨ ٦ ٣ ٧ في         هذا      مَرْحَبًا      بِكُمْ  مَرْحَبًا بِكُمْ  الصـحة التـصحر التطـويل\n",
      "\n",
      "Processed Sample Test 2 (Remove repeated dots Text):\n",
      "\n",
      "gynecomastia 2020-06-05 15:23:12  .. /اسئلة-طبية/جراحة \",جراحة-العظام \" \",جراحة-العظام د. ياسر  د ياسر  دياسر  د. ياسر الدباسي جراحة-العظام ٤٤٤٥٣١ ٨ ٦ ٣ ٧ في         هذا      مَرْحَبًا      بِكُمْ  مَرْحَبًا بِكُمْ  الصـحة التـصحر التطـويل\n",
      "\n",
      "Processed Sample Test 3 (Remove English):\n",
      "\n",
      " 2020-06-05 15:23:12  .. /اسئلة-طبية/جراحة \",جراحة-العظام \" \",جراحة-العظام د. ياسر  د ياسر  دياسر  د. ياسر الدباسي جراحة-العظام ٤٤٤٥٣١ ٨ ٦ ٣ ٧ في         هذا      مَرْحَبًا      بِكُمْ  مَرْحَبًا بِكُمْ  الصـحة التـصحر التطـويل\n",
      "\n",
      "Processed Sample Test 4 (Remove Elongation):\n",
      "\n",
      " 2020-06-05 15:23:12  .. /اسئلة-طبية/جراحة \",جراحة-العظام \" \",جراحة-العظام د. ياسر  د ياسر  دياسر  د. ياسر الدباسي جراحة-العظام ٤٤٤٥٣١ ٨ ٦ ٣ ٧ في         هذا      مَرْحَبًا      بِكُمْ  مَرْحَبًا بِكُمْ  الصـحة التـصحر التطـويل\n",
      "\n",
      "Processed Sample Test 5 (Remove Diacritics):\n",
      "\n",
      " 2020-06-05 15:23:12  .. /اسئلة-طبية/جراحة \",جراحة-العظام \" \",جراحة-العظام د. ياسر  د ياسر  دياسر  د. ياسر الدباسي جراحة-العظام ٤٤٤٥٣١ ٨ ٦ ٣ ٧ في         هذا      مرحبا      بكم  مرحبا بكم  الصحة التصحر التطويل\n",
      "\n",
      "Processed Sample Test 6 (Remove Spaces):\n",
      " 2020-06-05 15:23:12 .. /اسئلة-طبية/جراحة \",جراحة-العظام \" \",جراحة-العظام د. ياسر د ياسر دياسر د. ياسر الدباسي جراحة-العظام ٤٤٤٥٣١ ٨ ٦ ٣ ٧ في هذا مرحبا بكم مرحبا بكم الصحة التصحر التطويل\n",
      "\n",
      "Processed Sample Test 7 (Remove Punctuation):\n",
      "     اسئلةطبية جراحة جراحةالعظام  جراحةالعظام د ياسر د ياسر دياسر د ياسر الدباسي جراحةالعظام      في هذا مرحبا بكم مرحبا بكم الصحة التصحر التطويل\n",
      "\n",
      "Processed Sample Test 8 (remove_rlo_and_invisible_plus):\n",
      "     اسئلةطبية جراحة جراحةالعظام  جراحةالعظام د ياسر د ياسر دياسر د ياسر الدباسي جراحةالعظام      في هذا مرحبا بكم مرحبا بكم الصحة التصحر التطويل\n"
     ]
    }
   ],
   "source": [
    "sample_test = \"\"\"\n",
    "gynecomastia 2020-06-05 15:23:12 ... /اسئلة-طبية/جراحة \",جراحة-العظام \" \",جراحة-العظام د. ياسر  د ياااااسر  دياسر  د. ياسرررررر الدباسي جراحة-العظظظظام ٤٤٤٥٣١ ٨ ٦ ٣ ٧ في         هذا      مَرْحَبًا      بِكُمْ  مَرْحَبًا بِكُمْ  الصـــــــــــــــــــــــحة التــــــــــــــــــــــصحر التطــــــــــــــــــــــــويل\"\"\"\n",
    "\n",
    "processed_sample_test_1 = remove_repeated_characters(sample_test)\n",
    "processed_sample_test_2 = clean_text(processed_sample_test_1)\n",
    "processed_sample_test_3 = remove_english(processed_sample_test_2)\n",
    "processed_sample_test_4 = remove_elongation(processed_sample_test_3)\n",
    "processed_sample_test_5 = remove_diacritics(processed_sample_test_4)\n",
    "processed_sample_test_6 = remove_spaces(processed_sample_test_5)\n",
    "processed_sample_test_7 = remove_punctuation(processed_sample_test_6)\n",
    "processed_sample_test_8 = remove_rlo_and_invisible_plus(processed_sample_test_7)\n",
    "\n",
    "print(\"\\nProcessed Sample Test 1 (Remove Repeated Characters):\")\n",
    "print(processed_sample_test_1)\n",
    "print(\"\\nProcessed Sample Test 2 (Remove repeated dots Text):\")\n",
    "print(processed_sample_test_2)\n",
    "print(\"\\nProcessed Sample Test 3 (Remove English):\")\n",
    "print(processed_sample_test_3)\n",
    "print(\"\\nProcessed Sample Test 4 (Remove Elongation):\")\n",
    "print(processed_sample_test_4)\n",
    "print(\"\\nProcessed Sample Test 5 (Remove Diacritics):\")\n",
    "print(processed_sample_test_5)\n",
    "print(\"\\nProcessed Sample Test 6 (Remove Spaces):\")\n",
    "print(processed_sample_test_6)\n",
    "print(\"\\nProcessed Sample Test 7 (Remove Punctuation):\")\n",
    "print(processed_sample_test_7)\n",
    "print(\"\\nProcessed Sample Test 8 (remove_rlo_and_invisible_plus):\")\n",
    "print(processed_sample_test_8)\n",
    "\n",
    "\n",
    "processed_corpus_1 = [remove_repeated_characters(text) for text in corpus]\n",
    "processed_corpus_2 = [clean_text(text) for text in processed_corpus_1]\n",
    "processed_corpus_3 = [remove_english(text) for text in processed_corpus_2]\n",
    "processed_corpus_4 = [remove_elongation(text) for text in processed_corpus_3]\n",
    "processed_corpus_5 = [remove_diacritics(text) for text in processed_corpus_4]\n",
    "processed_corpus_6 = [remove_spaces(text) for text in processed_corpus_5]\n",
    "processed_corpus_7 = [remove_punctuation(text) for text in processed_corpus_6]\n",
    "processed_corpus_8 = [remove_rlo_and_invisible_plus(text) for text in processed_corpus_7]"
   ]
  },
  {
   "cell_type": "code",
   "execution_count": null,
   "id": "dc988d7f",
   "metadata": {
    "id": "dc988d7f",
    "outputId": "c1b0c63c-f2a0-443a-9045-9094bdfdef86"
   },
   "outputs": [
    {
     "name": "stdout",
     "output_type": "stream",
     "text": [
      "cleaned corpus has been saved to clean_corpus.csv.\n"
     ]
    }
   ],
   "source": [
    "import csv\n",
    "\n",
    "arabic_letters = \"\".join([chr(i) for i in range(0x0600, 0x06FF) if chr(i).isprintable()])\n",
    "\n",
    "processed_corpus_filtered = []\n",
    "for sentence in processed_corpus_8:\n",
    "    sentence = \" \".join(sentence.split()[:15])\n",
    "    if sentence != \"\" and len(sentence.split()) > 3:\n",
    "        sentence = \"<s> \" + sentence\n",
    "        if sentence[4] in arabic_letters:\n",
    "            processed_corpus_filtered.append(sentence)\n",
    "\n",
    "\n",
    "csv_file_path = \"clean_corpus.csv\"\n",
    "\n",
    "with open(csv_file_path, mode='w', encoding='utf-8', newline='') as csv_file:\n",
    "    csv_writer = csv.writer(csv_file)\n",
    "\n",
    "    csv_writer.writerow(['Cleaned Text'])\n",
    "\n",
    "    # Write the non-deprecated cleaned text to the CSV file\n",
    "    for text in processed_corpus_filtered:\n",
    "        csv_writer.writerow([text])\n",
    "\n",
    "print(f\"cleaned corpus has been saved to {csv_file_path}.\")\n"
   ]
  },
  {
   "cell_type": "code",
   "execution_count": 2,
   "id": "uLV1S-rWP-1c",
   "metadata": {
    "colab": {
     "base_uri": "https://localhost:8080/",
     "height": 73
    },
    "id": "uLV1S-rWP-1c",
    "outputId": "0aa7d538-1f6f-4ba9-f791-8ecc4dc6b75c"
   },
   "outputs": [
    {
     "data": {
      "text/html": [
       "\n",
       "     <input type=\"file\" id=\"files-f3b60d72-459b-42f9-a3ca-9378d6a169ef\" name=\"files[]\" multiple disabled\n",
       "        style=\"border:none\" />\n",
       "     <output id=\"result-f3b60d72-459b-42f9-a3ca-9378d6a169ef\">\n",
       "      Upload widget is only available when the cell has been executed in the\n",
       "      current browser session. Please rerun this cell to enable.\n",
       "      </output>\n",
       "      <script>// Copyright 2017 Google LLC\n",
       "//\n",
       "// Licensed under the Apache License, Version 2.0 (the \"License\");\n",
       "// you may not use this file except in compliance with the License.\n",
       "// You may obtain a copy of the License at\n",
       "//\n",
       "//      http://www.apache.org/licenses/LICENSE-2.0\n",
       "//\n",
       "// Unless required by applicable law or agreed to in writing, software\n",
       "// distributed under the License is distributed on an \"AS IS\" BASIS,\n",
       "// WITHOUT WARRANTIES OR CONDITIONS OF ANY KIND, either express or implied.\n",
       "// See the License for the specific language governing permissions and\n",
       "// limitations under the License.\n",
       "\n",
       "/**\n",
       " * @fileoverview Helpers for google.colab Python module.\n",
       " */\n",
       "(function(scope) {\n",
       "function span(text, styleAttributes = {}) {\n",
       "  const element = document.createElement('span');\n",
       "  element.textContent = text;\n",
       "  for (const key of Object.keys(styleAttributes)) {\n",
       "    element.style[key] = styleAttributes[key];\n",
       "  }\n",
       "  return element;\n",
       "}\n",
       "\n",
       "// Max number of bytes which will be uploaded at a time.\n",
       "const MAX_PAYLOAD_SIZE = 100 * 1024;\n",
       "\n",
       "function _uploadFiles(inputId, outputId) {\n",
       "  const steps = uploadFilesStep(inputId, outputId);\n",
       "  const outputElement = document.getElementById(outputId);\n",
       "  // Cache steps on the outputElement to make it available for the next call\n",
       "  // to uploadFilesContinue from Python.\n",
       "  outputElement.steps = steps;\n",
       "\n",
       "  return _uploadFilesContinue(outputId);\n",
       "}\n",
       "\n",
       "// This is roughly an async generator (not supported in the browser yet),\n",
       "// where there are multiple asynchronous steps and the Python side is going\n",
       "// to poll for completion of each step.\n",
       "// This uses a Promise to block the python side on completion of each step,\n",
       "// then passes the result of the previous step as the input to the next step.\n",
       "function _uploadFilesContinue(outputId) {\n",
       "  const outputElement = document.getElementById(outputId);\n",
       "  const steps = outputElement.steps;\n",
       "\n",
       "  const next = steps.next(outputElement.lastPromiseValue);\n",
       "  return Promise.resolve(next.value.promise).then((value) => {\n",
       "    // Cache the last promise value to make it available to the next\n",
       "    // step of the generator.\n",
       "    outputElement.lastPromiseValue = value;\n",
       "    return next.value.response;\n",
       "  });\n",
       "}\n",
       "\n",
       "/**\n",
       " * Generator function which is called between each async step of the upload\n",
       " * process.\n",
       " * @param {string} inputId Element ID of the input file picker element.\n",
       " * @param {string} outputId Element ID of the output display.\n",
       " * @return {!Iterable<!Object>} Iterable of next steps.\n",
       " */\n",
       "function* uploadFilesStep(inputId, outputId) {\n",
       "  const inputElement = document.getElementById(inputId);\n",
       "  inputElement.disabled = false;\n",
       "\n",
       "  const outputElement = document.getElementById(outputId);\n",
       "  outputElement.innerHTML = '';\n",
       "\n",
       "  const pickedPromise = new Promise((resolve) => {\n",
       "    inputElement.addEventListener('change', (e) => {\n",
       "      resolve(e.target.files);\n",
       "    });\n",
       "  });\n",
       "\n",
       "  const cancel = document.createElement('button');\n",
       "  inputElement.parentElement.appendChild(cancel);\n",
       "  cancel.textContent = 'Cancel upload';\n",
       "  const cancelPromise = new Promise((resolve) => {\n",
       "    cancel.onclick = () => {\n",
       "      resolve(null);\n",
       "    };\n",
       "  });\n",
       "\n",
       "  // Wait for the user to pick the files.\n",
       "  const files = yield {\n",
       "    promise: Promise.race([pickedPromise, cancelPromise]),\n",
       "    response: {\n",
       "      action: 'starting',\n",
       "    }\n",
       "  };\n",
       "\n",
       "  cancel.remove();\n",
       "\n",
       "  // Disable the input element since further picks are not allowed.\n",
       "  inputElement.disabled = true;\n",
       "\n",
       "  if (!files) {\n",
       "    return {\n",
       "      response: {\n",
       "        action: 'complete',\n",
       "      }\n",
       "    };\n",
       "  }\n",
       "\n",
       "  for (const file of files) {\n",
       "    const li = document.createElement('li');\n",
       "    li.append(span(file.name, {fontWeight: 'bold'}));\n",
       "    li.append(span(\n",
       "        `(${file.type || 'n/a'}) - ${file.size} bytes, ` +\n",
       "        `last modified: ${\n",
       "            file.lastModifiedDate ? file.lastModifiedDate.toLocaleDateString() :\n",
       "                                    'n/a'} - `));\n",
       "    const percent = span('0% done');\n",
       "    li.appendChild(percent);\n",
       "\n",
       "    outputElement.appendChild(li);\n",
       "\n",
       "    const fileDataPromise = new Promise((resolve) => {\n",
       "      const reader = new FileReader();\n",
       "      reader.onload = (e) => {\n",
       "        resolve(e.target.result);\n",
       "      };\n",
       "      reader.readAsArrayBuffer(file);\n",
       "    });\n",
       "    // Wait for the data to be ready.\n",
       "    let fileData = yield {\n",
       "      promise: fileDataPromise,\n",
       "      response: {\n",
       "        action: 'continue',\n",
       "      }\n",
       "    };\n",
       "\n",
       "    // Use a chunked sending to avoid message size limits. See b/62115660.\n",
       "    let position = 0;\n",
       "    do {\n",
       "      const length = Math.min(fileData.byteLength - position, MAX_PAYLOAD_SIZE);\n",
       "      const chunk = new Uint8Array(fileData, position, length);\n",
       "      position += length;\n",
       "\n",
       "      const base64 = btoa(String.fromCharCode.apply(null, chunk));\n",
       "      yield {\n",
       "        response: {\n",
       "          action: 'append',\n",
       "          file: file.name,\n",
       "          data: base64,\n",
       "        },\n",
       "      };\n",
       "\n",
       "      let percentDone = fileData.byteLength === 0 ?\n",
       "          100 :\n",
       "          Math.round((position / fileData.byteLength) * 100);\n",
       "      percent.textContent = `${percentDone}% done`;\n",
       "\n",
       "    } while (position < fileData.byteLength);\n",
       "  }\n",
       "\n",
       "  // All done.\n",
       "  yield {\n",
       "    response: {\n",
       "      action: 'complete',\n",
       "    }\n",
       "  };\n",
       "}\n",
       "\n",
       "scope.google = scope.google || {};\n",
       "scope.google.colab = scope.google.colab || {};\n",
       "scope.google.colab._files = {\n",
       "  _uploadFiles,\n",
       "  _uploadFilesContinue,\n",
       "};\n",
       "})(self);\n",
       "</script> "
      ],
      "text/plain": [
       "<IPython.core.display.HTML object>"
      ]
     },
     "metadata": {},
     "output_type": "display_data"
    },
    {
     "name": "stdout",
     "output_type": "stream",
     "text": [
      "Saving News-Multi.ar-en.ar.more.clean to News-Multi.ar-en.ar.more.clean\n"
     ]
    }
   ],
   "source": [
    "from google.colab import files\n",
    "\n",
    "data_file = files.upload()"
   ]
  },
  {
   "cell_type": "code",
   "execution_count": 3,
   "id": "75f47ef7",
   "metadata": {
    "colab": {
     "base_uri": "https://localhost:8080/"
    },
    "id": "75f47ef7",
    "outputId": "d32b7280-90d9-4573-cfc5-16b3638aebfa"
   },
   "outputs": [
    {
     "name": "stdout",
     "output_type": "stream",
     "text": [
      "<s> ترى إحدى المحاكم أن الفقرة من المادة تسمح بإجراء تحقيق حول النية الذاتية للطرفين حتى\n"
     ]
    }
   ],
   "source": [
    "\n",
    "file_name = list(data_file.keys())[0]\n",
    "\n",
    "data = data_file[file_name].decode('utf-8')\n",
    "\n",
    "corpus = data.lower().split(\"\\n\")\n",
    "\n",
    "\n",
    "print(corpus[0])"
   ]
  },
  {
   "cell_type": "code",
   "execution_count": 4,
   "id": "6b94d3d7",
   "metadata": {
    "id": "6b94d3d7"
   },
   "outputs": [],
   "source": [
    "vocab_size = 100000 \n",
    "out_of_vocab = \"<unk>\"\n",
    "tokenizer = Tokenizer(num_words=vocab_size, oov_token=out_of_vocab)\n",
    "tokenizer.fit_on_texts(corpus)"
   ]
  },
  {
   "cell_type": "code",
   "execution_count": null,
   "id": "37b5e94e",
   "metadata": {},
   "outputs": [],
   "source": [
    "hi  = tokenizer.texts_to_sequences([corpus[1]])[0]\n",
    "print(hi)"
   ]
  },
  {
   "cell_type": "code",
   "execution_count": null,
   "id": "c190e3d4",
   "metadata": {},
   "outputs": [],
   "source": [
    "max_sequence_len = 15\n",
    "input_sequences = []\n",
    "input_sequences_reversed = []\n",
    "for i in range(1, len(hi)):\n",
    "        n_gram_sequence = hi[:i+1]\n",
    "        print('n_gram_sequence ',n_gram_sequence)\n",
    "        input_sequences.append(n_gram_sequence)\n",
    "        print('input_sequences ',input_sequences)\n",
    "        n_gram_sequence_rev = hi[i:]\n",
    "        print('n_gram_sequence_rev ',n_gram_sequence_rev)\n",
    "        n_gram_sequence_rev.reverse()\n",
    "        input_sequences_reversed.append(n_gram_sequence_rev)\n",
    "        print('input_sequences_reversed ',input_sequences_reversed)"
   ]
  },
  {
   "cell_type": "code",
   "execution_count": null,
   "id": "d64f6189",
   "metadata": {},
   "outputs": [],
   "source": [
    "input_sequences = np.array(pad_sequences(input_sequences, maxlen=max_sequence_len, padding='pre'))\n",
    "input_sequences_reversed = np.array(pad_sequences(input_sequences_reversed, maxlen=max_sequence_len, padding='pre'))"
   ]
  },
  {
   "cell_type": "code",
   "execution_count": null,
   "id": "57dafc30",
   "metadata": {},
   "outputs": [],
   "source": [
    "print('input_sequences ',input_sequences)\n",
    "print('input_sequences_reversed ',input_sequences_reversed)"
   ]
  },
  {
   "cell_type": "code",
   "execution_count": 5,
   "id": "a6bb5898",
   "metadata": {
    "id": "a6bb5898"
   },
   "outputs": [],
   "source": [
    "\n",
    "max_sequence_len = 15\n",
    "input_sequences = []\n",
    "input_sequences_reversed = []\n",
    "\n",
    "for line in corpus:\n",
    "    token_list = tokenizer.texts_to_sequences([line])[0] # take the line and convert it to sequence of tokens\n",
    "    for i in range(1, len(token_list)):\n",
    "        n_gram_sequence = token_list[:i+1]\n",
    "        input_sequences.append(n_gram_sequence)\n",
    "        n_gram_sequence_rev = token_list[i:]\n",
    "        n_gram_sequence_rev.reverse()\n",
    "        input_sequences_reversed.append(n_gram_sequence_rev)\n",
    "input_sequences = np.array(pad_sequences(input_sequences, maxlen=max_sequence_len, padding='pre'))\n",
    "input_sequences_reversed = np.array(pad_sequences(input_sequences_reversed, maxlen=max_sequence_len, padding='pre'))\n"
   ]
  },
  {
   "cell_type": "code",
   "execution_count": 12,
   "id": "Q7K8qFNQue9L",
   "metadata": {
    "colab": {
     "base_uri": "https://localhost:8080/"
    },
    "id": "Q7K8qFNQue9L",
    "outputId": "482bbeab-c80d-4af5-b466-84fc2ac475b4"
   },
   "outputs": [
    {
     "name": "stdout",
     "output_type": "stream",
     "text": [
      "[  0   0   0   0   0   0   0   0   0   0   0   0   2 873] 1015\n",
      "[   0   88    1 5420 8837  263  179 2820 1675   89    4  102    5 1843] 1015\n",
      "Model: \"model_2\"\n",
      "_________________________________________________________________\n",
      " Layer (type)                Output Shape              Param #   \n",
      "=================================================================\n",
      " left_in (InputLayer)        [(None, 14)]              0         \n",
      "                                                                 \n",
      " embedding_2 (Embedding)     (None, 14, 64)            640000    \n",
      "                                                                 \n",
      " simple_rnn_1 (SimpleRNN)    (None, 64)                8256      \n",
      "                                                                 \n",
      " concatenate (Concatenate)   (None, 64)                0         \n",
      "                                                                 \n",
      " pred (Dense)                (None, 10000)             650000    \n",
      "                                                                 \n",
      "=================================================================\n",
      "Total params: 1298256 (4.95 MB)\n",
      "Trainable params: 1298256 (4.95 MB)\n",
      "Non-trainable params: 0 (0.00 Byte)\n",
      "_________________________________________________________________\n",
      "None\n",
      "Epoch 1/50\n",
      "14379/14379 [==============================] - ETA: 0s - loss: 5.5863 - accuracy: 0.2132\n",
      "Epoch 1: saving model to model-dual-input_RNN/model2.01-0.213-0.238\n",
      "14379/14379 [==============================] - 323s 22ms/step - loss: 5.5863 - accuracy: 0.2132 - val_loss: 5.1119 - val_accuracy: 0.2381\n",
      "Epoch 2/50\n",
      "14379/14379 [==============================] - ETA: 0s - loss: 5.0061 - accuracy: 0.2430\n",
      "Epoch 2: saving model to model-dual-input_RNN/model2.02-0.243-0.247\n",
      "14379/14379 [==============================] - 277s 19ms/step - loss: 5.0061 - accuracy: 0.2430 - val_loss: 4.9418 - val_accuracy: 0.2474\n",
      "Epoch 3/50\n",
      "14379/14379 [==============================] - ETA: 0s - loss: 4.8805 - accuracy: 0.2492\n",
      "Epoch 3: saving model to model-dual-input_RNN/model2.03-0.249-0.252\n",
      "14379/14379 [==============================] - 276s 19ms/step - loss: 4.8805 - accuracy: 0.2492 - val_loss: 4.8738 - val_accuracy: 0.2518\n",
      "Epoch 4/50\n",
      "14379/14379 [==============================] - ETA: 0s - loss: 4.8166 - accuracy: 0.2523\n",
      "Epoch 4: saving model to model-dual-input_RNN/model2.04-0.252-0.253\n",
      "14379/14379 [==============================] - 274s 19ms/step - loss: 4.8166 - accuracy: 0.2523 - val_loss: 4.8371 - val_accuracy: 0.2535\n",
      "Epoch 5/50\n",
      "14379/14379 [==============================] - ETA: 0s - loss: 4.7762 - accuracy: 0.2543\n",
      "Epoch 5: saving model to model-dual-input_RNN/model2.05-0.254-0.254\n",
      "14379/14379 [==============================] - 269s 19ms/step - loss: 4.7762 - accuracy: 0.2543 - val_loss: 4.8141 - val_accuracy: 0.2544\n",
      "Epoch 6/50\n",
      "14379/14379 [==============================] - ETA: 0s - loss: 4.7478 - accuracy: 0.2558\n",
      "Epoch 6: saving model to model-dual-input_RNN/model2.06-0.256-0.256\n",
      "14379/14379 [==============================] - 267s 19ms/step - loss: 4.7478 - accuracy: 0.2558 - val_loss: 4.7977 - val_accuracy: 0.2555\n",
      "Epoch 7/50\n",
      "14379/14379 [==============================] - ETA: 0s - loss: 4.7264 - accuracy: 0.2568\n",
      "Epoch 7: saving model to model-dual-input_RNN/model2.07-0.257-0.256\n",
      "14379/14379 [==============================] - 262s 18ms/step - loss: 4.7264 - accuracy: 0.2568 - val_loss: 4.7821 - val_accuracy: 0.2564\n",
      "Epoch 8/50\n",
      "14379/14379 [==============================] - ETA: 0s - loss: 4.7098 - accuracy: 0.2575\n",
      "Epoch 8: saving model to model-dual-input_RNN/model2.08-0.258-0.257\n",
      "14379/14379 [==============================] - 262s 18ms/step - loss: 4.7098 - accuracy: 0.2575 - val_loss: 4.7740 - val_accuracy: 0.2570\n",
      "Epoch 9/50\n",
      "14379/14379 [==============================] - ETA: 0s - loss: 4.6963 - accuracy: 0.2583\n",
      "Epoch 9: saving model to model-dual-input_RNN/model2.09-0.258-0.257\n",
      "14379/14379 [==============================] - 262s 18ms/step - loss: 4.6963 - accuracy: 0.2583 - val_loss: 4.7697 - val_accuracy: 0.2574\n",
      "Epoch 10/50\n",
      "14379/14379 [==============================] - ETA: 0s - loss: 4.6853 - accuracy: 0.2589\n",
      "Epoch 10: saving model to model-dual-input_RNN/model2.10-0.259-0.257\n",
      "14379/14379 [==============================] - 258s 18ms/step - loss: 4.6853 - accuracy: 0.2589 - val_loss: 4.7588 - val_accuracy: 0.2574\n",
      "Epoch 11/50\n",
      "14379/14379 [==============================] - ETA: 0s - loss: 4.6760 - accuracy: 0.2593\n",
      "Epoch 11: saving model to model-dual-input_RNN/model2.11-0.259-0.258\n",
      "14379/14379 [==============================] - 258s 18ms/step - loss: 4.6760 - accuracy: 0.2593 - val_loss: 4.7556 - val_accuracy: 0.2577\n",
      "Epoch 12/50\n",
      "14379/14379 [==============================] - ETA: 0s - loss: 4.6678 - accuracy: 0.2597\n",
      "Epoch 12: saving model to model-dual-input_RNN/model2.12-0.260-0.258\n",
      "14379/14379 [==============================] - 258s 18ms/step - loss: 4.6678 - accuracy: 0.2597 - val_loss: 4.7504 - val_accuracy: 0.2579\n",
      "Epoch 13/50\n",
      "14379/14379 [==============================] - ETA: 0s - loss: 4.6610 - accuracy: 0.2600\n",
      "Epoch 13: saving model to model-dual-input_RNN/model2.13-0.260-0.258\n",
      "14379/14379 [==============================] - 258s 18ms/step - loss: 4.6610 - accuracy: 0.2600 - val_loss: 4.7472 - val_accuracy: 0.2583\n",
      "Epoch 14/50\n",
      "14379/14379 [==============================] - ETA: 0s - loss: 4.6549 - accuracy: 0.2603\n",
      "Epoch 14: saving model to model-dual-input_RNN/model2.14-0.260-0.259\n",
      "14379/14379 [==============================] - 260s 18ms/step - loss: 4.6549 - accuracy: 0.2603 - val_loss: 4.7406 - val_accuracy: 0.2587\n",
      "Epoch 15/50\n",
      "14379/14379 [==============================] - ETA: 0s - loss: 4.6496 - accuracy: 0.2607\n",
      "Epoch 15: saving model to model-dual-input_RNN/model2.15-0.261-0.259\n",
      "14379/14379 [==============================] - 267s 19ms/step - loss: 4.6496 - accuracy: 0.2607 - val_loss: 4.7389 - val_accuracy: 0.2586\n",
      "Epoch 16/50\n",
      "14379/14379 [==============================] - ETA: 0s - loss: 4.6447 - accuracy: 0.2609\n",
      "Epoch 16: saving model to model-dual-input_RNN/model2.16-0.261-0.259\n",
      "14379/14379 [==============================] - 261s 18ms/step - loss: 4.6447 - accuracy: 0.2609 - val_loss: 4.7377 - val_accuracy: 0.2589\n",
      "Epoch 17/50\n",
      "14379/14379 [==============================] - ETA: 0s - loss: 4.6403 - accuracy: 0.2611\n",
      "Epoch 17: saving model to model-dual-input_RNN/model2.17-0.261-0.259\n",
      "14379/14379 [==============================] - 269s 19ms/step - loss: 4.6403 - accuracy: 0.2611 - val_loss: 4.7343 - val_accuracy: 0.2593\n",
      "Epoch 18/50\n",
      "14379/14379 [==============================] - ETA: 0s - loss: 4.6362 - accuracy: 0.2612\n",
      "Epoch 18: saving model to model-dual-input_RNN/model2.18-0.261-0.260\n",
      "14379/14379 [==============================] - 276s 19ms/step - loss: 4.6362 - accuracy: 0.2612 - val_loss: 4.7322 - val_accuracy: 0.2599\n",
      "Epoch 19/50\n",
      "14379/14379 [==============================] - ETA: 0s - loss: 4.6327 - accuracy: 0.2614\n",
      "Epoch 19: saving model to model-dual-input_RNN/model2.19-0.261-0.260\n",
      "14379/14379 [==============================] - 274s 19ms/step - loss: 4.6327 - accuracy: 0.2614 - val_loss: 4.7302 - val_accuracy: 0.2601\n",
      "Epoch 20/50\n",
      "14379/14379 [==============================] - ETA: 0s - loss: 4.6293 - accuracy: 0.2616\n",
      "Epoch 20: saving model to model-dual-input_RNN/model2.20-0.262-0.260\n",
      "14379/14379 [==============================] - 276s 19ms/step - loss: 4.6293 - accuracy: 0.2616 - val_loss: 4.7304 - val_accuracy: 0.2596\n",
      "Epoch 21/50\n",
      "14379/14379 [==============================] - ETA: 0s - loss: 4.6262 - accuracy: 0.2619\n",
      "Epoch 21: saving model to model-dual-input_RNN/model2.21-0.262-0.260\n",
      "14379/14379 [==============================] - 277s 19ms/step - loss: 4.6262 - accuracy: 0.2619 - val_loss: 4.7261 - val_accuracy: 0.2603\n",
      "Epoch 22/50\n",
      "14379/14379 [==============================] - ETA: 0s - loss: 4.6234 - accuracy: 0.2619\n",
      "Epoch 22: saving model to model-dual-input_RNN/model2.22-0.262-0.260\n",
      "14379/14379 [==============================] - 276s 19ms/step - loss: 4.6234 - accuracy: 0.2619 - val_loss: 4.7265 - val_accuracy: 0.2600\n",
      "Epoch 23/50\n",
      "14379/14379 [==============================] - ETA: 0s - loss: 4.6207 - accuracy: 0.2621\n",
      "Epoch 23: saving model to model-dual-input_RNN/model2.23-0.262-0.260\n",
      "14379/14379 [==============================] - 283s 20ms/step - loss: 4.6207 - accuracy: 0.2621 - val_loss: 4.7254 - val_accuracy: 0.2596\n",
      "Epoch 24/50\n",
      "14379/14379 [==============================] - ETA: 0s - loss: 4.6182 - accuracy: 0.2622\n",
      "Epoch 24: saving model to model-dual-input_RNN/model2.24-0.262-0.260\n",
      "14379/14379 [==============================] - 287s 20ms/step - loss: 4.6182 - accuracy: 0.2622 - val_loss: 4.7250 - val_accuracy: 0.2600\n",
      "Training Time: 6514.859368562698 seconds\n"
     ]
    }
   ],
   "source": [
    "from keras.layers import  SimpleRNN\n",
    "\n",
    "predictors, label = input_sequences[:,:-1], input_sequences[:,-1]\n",
    "predictors_rev, label_rev = input_sequences_reversed[:,:-1], input_sequences_reversed[:,-1]\n",
    "\n",
    "# Test - label must be the same as label_rev, i.e. the current word\n",
    "print(predictors[1], label[1])\n",
    "print(predictors_rev[1], label_rev[1])\n",
    "\n",
    "\n",
    "# Build the model - 2 inputs, 1 output\n",
    "\n",
    "# Input\n",
    "left_input = Input(shape=(max_sequence_len-1,), name=\"left_in\")\n",
    "# right_input = Input(shape=(max_sequence_len-1,),  name=\"right_in\")\n",
    "\n",
    "# Embedding\n",
    "left_features = Embedding(vocab_size, 64)(left_input)\n",
    "\n",
    "# LSTM\n",
    "left_features = SimpleRNN(64)(left_features)\n",
    "\n",
    "\n",
    "concat = concatenate([left_features], name='concatenate')\n",
    "\n",
    "# Dense - output\n",
    "pred = Dense(vocab_size, activation='softmax', name=\"pred\")(concat)\n",
    "\n",
    "\n",
    "model2 = Model(\n",
    "    inputs = [left_input],\n",
    "    outputs = pred\n",
    ")\n",
    "\n",
    "\n",
    "model2.compile(\n",
    "    optimizer = Adam(),\n",
    "    loss = SparseCategoricalCrossentropy(),\n",
    "    metrics = ['accuracy']\n",
    ")\n",
    "\n",
    "print(model2.summary())\n",
    "\n",
    "\n",
    "my_callbacks = [\n",
    "    EarlyStopping(monitor='val_accuracy', patience=3),\n",
    "    ModelCheckpoint(filepath='model-dual-input_RNN/model2.{epoch:02d}-{accuracy:.3f}-{val_accuracy:.3f}', verbose=1)\n",
    "]\n",
    "\n",
    "start_time = time.time()\n",
    "history2 = model2.fit(\n",
    "    {\"left_in\": predictors},\n",
    "    {'pred': label},\n",
    "    epochs=50,\n",
    "    batch_size=512,\n",
    "    validation_split=0.02,\n",
    "    callbacks=my_callbacks\n",
    ")\n",
    "end_time = time.time()\n",
    "training_time = end_time - start_time\n",
    "print(f\"Training Time: {training_time} seconds\")"
   ]
  },
  {
   "cell_type": "code",
   "execution_count": 13,
   "id": "OLREjDADI0rz",
   "metadata": {
    "colab": {
     "base_uri": "https://localhost:8080/",
     "height": 452
    },
    "id": "OLREjDADI0rz",
    "outputId": "24983c1e-86ab-4c1d-86ae-5a9fe6a43bb8"
   },
   "outputs": [
    {
     "data": {
      "image/png": "[encoded data removed]",
      "text/plain": [
       "<Figure size 640x480 with 1 Axes>"
      ]
     },
     "metadata": {},
     "output_type": "display_data"
    }
   ],
   "source": [
    "import matplotlib.pyplot as plt\n",
    "\n",
    "plt.bar(['Training Time'], [training_time])\n",
    "plt.title('Training Time')\n",
    "plt.ylabel('Time (seconds)')\n",
    "plt.savefig('training_time_plot_without.png')\n",
    "plt.show()"
   ]
  },
  {
   "cell_type": "code",
   "execution_count": 14,
   "id": "YfhQwQE5I0Yj",
   "metadata": {
    "colab": {
     "base_uri": "https://localhost:8080/",
     "height": 472
    },
    "id": "YfhQwQE5I0Yj",
    "outputId": "7341c0a5-77ff-498f-ea91-f402511691be"
   },
   "outputs": [
    {
     "data": {
      "image/png": "[encoded data removed]",
      "text/plain": [
       "<Figure size 640x480 with 1 Axes>"
      ]
     },
     "metadata": {},
     "output_type": "display_data"
    }
   ],
   "source": [
    "import matplotlib.pyplot as plt\n",
    "# Plot training & validation loss values\n",
    "plt.plot(history2.history['loss'])\n",
    "plt.plot(history2.history['val_loss'])\n",
    "plt.title('Model loss')\n",
    "plt.xlabel('Epoch')\n",
    "plt.ylabel('Loss')\n",
    "plt.legend(['Train', 'Validation'], loc='upper left')\n",
    "plt.savefig('model_loss_plot.png')\n",
    "plt.show()"
   ]
  },
  {
   "cell_type": "code",
   "execution_count": 15,
   "id": "S--6EJldI7CN",
   "metadata": {
    "colab": {
     "base_uri": "https://localhost:8080/",
     "height": 472
    },
    "id": "S--6EJldI7CN",
    "outputId": "50e98756-b026-4ded-cd0e-9bd622cc6179"
   },
   "outputs": [
    {
     "data": {
      "image/png": "[encoded data removed]",
      "text/plain": [
       "<Figure size 640x480 with 1 Axes>"
      ]
     },
     "metadata": {},
     "output_type": "display_data"
    }
   ],
   "source": [
    "plt.plot(history2.history['accuracy'])\n",
    "plt.plot(history2.history['val_accuracy'])\n",
    "plt.title('Model accuracy')\n",
    "plt.xlabel('Epoch')\n",
    "plt.ylabel('Accuracy')\n",
    "plt.legend(['Train', 'Validation'], loc='upper left')\n",
    "\n",
    "# Save the accuracy plot as an image\n",
    "plt.savefig('model_accuracy_plot.png')\n",
    "\n",
    "# Display the plot (optional)\n",
    "plt.show()"
   ]
  },
  {
   "cell_type": "code",
   "execution_count": 6,
   "id": "sJHB6B7Sij27",
   "metadata": {
    "colab": {
     "base_uri": "https://localhost:8080/"
    },
    "id": "sJHB6B7Sij27",
    "outputId": "c6662935-c72f-4df2-9360-ee96a0b55597"
   },
   "outputs": [
    {
     "name": "stdout",
     "output_type": "stream",
     "text": [
      "[  0   0   0   0   0   0   0   0   0   0   0   0   2 873] 1015\n",
      "[   0   88    1 5420 8837  263  179 2820 1675   89    4  102    5 1843] 1015\n",
      "Model: \"model\"\n",
      "_________________________________________________________________\n",
      " Layer (type)                Output Shape              Param #   \n",
      "=================================================================\n",
      " left_in (InputLayer)        [(None, 14)]              0         \n",
      "                                                                 \n",
      " embedding (Embedding)       (None, 14, 128)           1280000   \n",
      "                                                                 \n",
      " lstm (LSTM)                 (None, 64)                49408     \n",
      "                                                                 \n",
      " concatenate (Concatenate)   (None, 64)                0         \n",
      "                                                                 \n",
      " pred (Dense)                (None, 10000)             650000    \n",
      "                                                                 \n",
      "=================================================================\n",
      "Total params: 1979408 (7.55 MB)\n",
      "Trainable params: 1979408 (7.55 MB)\n",
      "Non-trainable params: 0 (0.00 Byte)\n",
      "_________________________________________________________________\n",
      "None\n",
      "Epoch 1/100\n",
      "14379/14379 [==============================] - ETA: 0s - loss: 5.8425 - accuracy: 0.1981\n",
      "Epoch 1: saving model to model-dual-input/model.01-0.198-0.230\n",
      "14379/14379 [==============================] - 189s 13ms/step - loss: 5.8425 - accuracy: 0.1981 - val_loss: 5.2721 - val_accuracy: 0.2303\n",
      "Epoch 2/100\n",
      "14379/14379 [==============================] - ETA: 0s - loss: 5.1153 - accuracy: 0.2380\n",
      "Epoch 2: saving model to model-dual-input/model.02-0.238-0.244\n",
      "14379/14379 [==============================] - 157s 11ms/step - loss: 5.1153 - accuracy: 0.2380 - val_loss: 5.0073 - val_accuracy: 0.2444\n",
      "Epoch 3/100\n",
      "14379/14379 [==============================] - ETA: 0s - loss: 4.9276 - accuracy: 0.2481\n",
      "Epoch 3: saving model to model-dual-input/model.03-0.248-0.251\n",
      "14379/14379 [==============================] - 156s 11ms/step - loss: 4.9276 - accuracy: 0.2481 - val_loss: 4.8939 - val_accuracy: 0.2512\n",
      "Epoch 4/100\n",
      "14379/14379 [==============================] - ETA: 0s - loss: 4.8246 - accuracy: 0.2538\n",
      "Epoch 4: saving model to model-dual-input/model.04-0.254-0.256\n",
      "14379/14379 [==============================] - 155s 11ms/step - loss: 4.8246 - accuracy: 0.2538 - val_loss: 4.8289 - val_accuracy: 0.2556\n",
      "Epoch 5/100\n",
      "14379/14379 [==============================] - ETA: 0s - loss: 4.7556 - accuracy: 0.2576\n",
      "Epoch 5: saving model to model-dual-input/model.05-0.258-0.258\n",
      "14379/14379 [==============================] - 155s 11ms/step - loss: 4.7556 - accuracy: 0.2576 - val_loss: 4.7852 - val_accuracy: 0.2584\n",
      "Epoch 6/100\n",
      "14379/14379 [==============================] - ETA: 0s - loss: 4.7048 - accuracy: 0.2607\n",
      "Epoch 6: saving model to model-dual-input/model.06-0.261-0.260\n",
      "14379/14379 [==============================] - 155s 11ms/step - loss: 4.7048 - accuracy: 0.2607 - val_loss: 4.7540 - val_accuracy: 0.2601\n",
      "Epoch 7/100\n",
      "14379/14379 [==============================] - ETA: 0s - loss: 4.6659 - accuracy: 0.2630\n",
      "Epoch 7: saving model to model-dual-input/model.07-0.263-0.261\n",
      "14379/14379 [==============================] - 156s 11ms/step - loss: 4.6659 - accuracy: 0.2630 - val_loss: 4.7308 - val_accuracy: 0.2608\n",
      "Epoch 8/100\n",
      "14377/14379 [============================>.] - ETA: 0s - loss: 4.6351 - accuracy: 0.2647\n",
      "Epoch 8: saving model to model-dual-input/model.08-0.265-0.263\n",
      "14379/14379 [==============================] - 156s 11ms/step - loss: 4.6351 - accuracy: 0.2647 - val_loss: 4.7150 - val_accuracy: 0.2627\n",
      "Epoch 9/100\n",
      "14379/14379 [==============================] - ETA: 0s - loss: 4.6101 - accuracy: 0.2664\n",
      "Epoch 9: saving model to model-dual-input/model.09-0.266-0.263\n",
      "14379/14379 [==============================] - 156s 11ms/step - loss: 4.6101 - accuracy: 0.2664 - val_loss: 4.7035 - val_accuracy: 0.2631\n",
      "Epoch 10/100\n",
      "14377/14379 [============================>.] - ETA: 0s - loss: 4.5893 - accuracy: 0.2677\n",
      "Epoch 10: saving model to model-dual-input/model.10-0.268-0.264\n",
      "14379/14379 [==============================] - 157s 11ms/step - loss: 4.5893 - accuracy: 0.2677 - val_loss: 4.6929 - val_accuracy: 0.2645\n",
      "Epoch 11/100\n",
      "14379/14379 [==============================] - ETA: 0s - loss: 4.5718 - accuracy: 0.2688\n",
      "Epoch 11: saving model to model-dual-input/model.11-0.269-0.265\n",
      "14379/14379 [==============================] - 156s 11ms/step - loss: 4.5718 - accuracy: 0.2688 - val_loss: 4.6850 - val_accuracy: 0.2650\n",
      "Epoch 12/100\n",
      "14378/14379 [============================>.] - ETA: 0s - loss: 4.5570 - accuracy: 0.2697\n",
      "Epoch 12: saving model to model-dual-input/model.12-0.270-0.265\n",
      "14379/14379 [==============================] - 157s 11ms/step - loss: 4.5570 - accuracy: 0.2697 - val_loss: 4.6801 - val_accuracy: 0.2653\n",
      "Epoch 13/100\n",
      "14379/14379 [==============================] - ETA: 0s - loss: 4.5442 - accuracy: 0.2705\n",
      "Epoch 13: saving model to model-dual-input/model.13-0.270-0.266\n",
      "14379/14379 [==============================] - 157s 11ms/step - loss: 4.5442 - accuracy: 0.2705 - val_loss: 4.6771 - val_accuracy: 0.2662\n",
      "Epoch 14/100\n",
      "14379/14379 [==============================] - ETA: 0s - loss: 4.5329 - accuracy: 0.2713\n",
      "Epoch 14: saving model to model-dual-input/model.14-0.271-0.266\n",
      "14379/14379 [==============================] - 157s 11ms/step - loss: 4.5329 - accuracy: 0.2713 - val_loss: 4.6713 - val_accuracy: 0.2662\n",
      "Epoch 15/100\n",
      "14379/14379 [==============================] - ETA: 0s - loss: 4.5232 - accuracy: 0.2718\n",
      "Epoch 15: saving model to model-dual-input/model.15-0.272-0.267\n",
      "14379/14379 [==============================] - 157s 11ms/step - loss: 4.5232 - accuracy: 0.2718 - val_loss: 4.6692 - val_accuracy: 0.2670\n",
      "Epoch 16/100\n",
      "14379/14379 [==============================] - ETA: 0s - loss: 4.5145 - accuracy: 0.2725\n",
      "Epoch 16: saving model to model-dual-input/model.16-0.272-0.267\n",
      "14379/14379 [==============================] - 156s 11ms/step - loss: 4.5145 - accuracy: 0.2725 - val_loss: 4.6671 - val_accuracy: 0.2667\n",
      "Epoch 17/100\n",
      "14378/14379 [============================>.] - ETA: 0s - loss: 4.5065 - accuracy: 0.2729\n",
      "Epoch 17: saving model to model-dual-input/model.17-0.273-0.267\n",
      "14379/14379 [==============================] - 155s 11ms/step - loss: 4.5065 - accuracy: 0.2729 - val_loss: 4.6615 - val_accuracy: 0.2668\n",
      "Epoch 18/100\n",
      "14379/14379 [==============================] - ETA: 0s - loss: 4.4994 - accuracy: 0.2734\n",
      "Epoch 18: saving model to model-dual-input/model.18-0.273-0.267\n",
      "14379/14379 [==============================] - 156s 11ms/step - loss: 4.4994 - accuracy: 0.2734 - val_loss: 4.6628 - val_accuracy: 0.2669\n",
      "Training Time: 2844.9911155700684 seconds\n"
     ]
    }
   ],
   "source": [
    "\n",
    "predictors, label = input_sequences[:,:-1], input_sequences[:,-1]\n",
    "predictors_rev, label_rev = input_sequences_reversed[:,:-1], input_sequences_reversed[:,-1]\n",
    "\n",
    "print(predictors[1], label[1])\n",
    "print(predictors_rev[1], label_rev[1])\n",
    "\n",
    "\n",
    "\n",
    "# Input\n",
    "left_input = Input(shape=(max_sequence_len-1,), name=\"left_in\")\n",
    "\n",
    "# Embedding\n",
    "left_features = Embedding(vocab_size, 128)(left_input)\n",
    "\n",
    "# LSTM\n",
    "left_features = LSTM(64)(left_features)\n",
    "\n",
    "concat = concatenate([left_features], name='concatenate')\n",
    "\n",
    "# Dense - output\n",
    "pred = Dense(vocab_size, activation='softmax', name=\"pred\")(concat)\n",
    "\n",
    "\n",
    "# Instantiate an end-to-end model predicting the next word based on both the left and right inputs\n",
    "model = Model(\n",
    "    inputs = [left_input],\n",
    "    outputs = pred\n",
    ")\n",
    "\n",
    "\n",
    "model.compile(\n",
    "    optimizer = Adam(),\n",
    "    loss = SparseCategoricalCrossentropy(),\n",
    "    metrics = ['accuracy']\n",
    ")\n",
    "\n",
    "print(model.summary())\n",
    "\n",
    "\n",
    "# Define callbacks\n",
    "my_callbacks = [\n",
    "    EarlyStopping(monitor='val_accuracy', patience=3),\n",
    "    ModelCheckpoint(filepath='model-dual-input/model.{epoch:02d}-{accuracy:.3f}-{val_accuracy:.3f}', verbose=1)\n",
    "]\n",
    "\n",
    "start_time = time.time()\n",
    "history = model.fit(\n",
    "    {\"left_in\": predictors},\n",
    "    {'pred': label},\n",
    "    epochs=100,\n",
    "    batch_size=512,\n",
    "    validation_split=0.02,\n",
    "    callbacks=my_callbacks\n",
    ")\n",
    "end_time = time.time()\n",
    "training_time = end_time - start_time\n",
    "print(f\"Training Time: {training_time} seconds\")"
   ]
  },
  {
   "cell_type": "code",
   "execution_count": 8,
   "id": "0ezpE23luD37",
   "metadata": {
    "colab": {
     "base_uri": "https://localhost:8080/",
     "height": 452
    },
    "id": "0ezpE23luD37",
    "outputId": "f2384392-38a5-43f7-a90d-07ec1191d385"
   },
   "outputs": [
    {
     "data": {
      "image/png": "[encoded data removed]",
      "text/plain": [
       "<Figure size 640x480 with 1 Axes>"
      ]
     },
     "metadata": {},
     "output_type": "display_data"
    }
   ],
   "source": [
    "import matplotlib.pyplot as plt\n",
    "\n",
    "plt.bar(['Training Time'], [training_time])\n",
    "plt.title('Training Time')\n",
    "plt.ylabel('Time (seconds)')\n",
    "plt.savefig('training_time_plot_without.png')\n",
    "plt.show()"
   ]
  },
  {
   "cell_type": "code",
   "execution_count": 9,
   "id": "DfihtK-guS1s",
   "metadata": {
    "colab": {
     "base_uri": "https://localhost:8080/",
     "height": 472
    },
    "id": "DfihtK-guS1s",
    "outputId": "a9751cbf-d7d7-45fd-8605-84b9caa8f56e"
   },
   "outputs": [
    {
     "data": {
      "image/png": "[encoded data removed]",
      "text/plain": [
       "<Figure size 640x480 with 1 Axes>"
      ]
     },
     "metadata": {},
     "output_type": "display_data"
    }
   ],
   "source": [
    "import matplotlib.pyplot as plt\n",
    "# Plot training & validation loss values\n",
    "plt.plot(history.history['loss'])\n",
    "plt.plot(history.history['val_loss'])\n",
    "plt.title('Model loss')\n",
    "plt.xlabel('Epoch')\n",
    "plt.ylabel('Loss')\n",
    "plt.legend(['Train', 'Validation'], loc='upper left')\n",
    "plt.savefig('model_loss_plot.png')\n",
    "plt.show()"
   ]
  },
  {
   "cell_type": "code",
   "execution_count": 10,
   "id": "ySivTpLOuZbV",
   "metadata": {
    "colab": {
     "base_uri": "https://localhost:8080/",
     "height": 472
    },
    "id": "ySivTpLOuZbV",
    "outputId": "70fd2434-1bdc-415f-9bb4-3d5682bf885a"
   },
   "outputs": [
    {
     "data": {
      "image/png": "[encoded data removed]",
      "text/plain": [
       "<Figure size 640x480 with 1 Axes>"
      ]
     },
     "metadata": {},
     "output_type": "display_data"
    }
   ],
   "source": [
    "plt.plot(history.history['accuracy'])\n",
    "plt.plot(history.history['val_accuracy'])\n",
    "plt.title('Model accuracy')\n",
    "plt.xlabel('Epoch')\n",
    "plt.ylabel('Accuracy')\n",
    "plt.legend(['Train', 'Validation'], loc='upper left')\n",
    "\n",
    "# Save the accuracy plot as an image\n",
    "plt.savefig('model_accuracy_plot.png')\n",
    "\n",
    "# Display the plot (optional)\n",
    "plt.show()"
   ]
  },
  {
   "cell_type": "code",
   "execution_count": null,
   "id": "9d84046c",
   "metadata": {
    "colab": {
     "base_uri": "https://localhost:8080/"
    },
    "id": "9d84046c",
    "outputId": "42f40377-5081-4587-c03c-c70724a0fbb7"
   },
   "outputs": [
    {
     "name": "stdout",
     "output_type": "stream",
     "text": [
      "[  0   0   0   0   0   0   0   0   0   0   0   0   2 873] 1015\n",
      "[   0   88    1 5420 8837  263  179 2820 1675   89    4  102    5 1843] 1015\n",
      "Model: \"model_3\"\n",
      "__________________________________________________________________________________________________\n",
      " Layer (type)                Output Shape                 Param #   Connected to                  \n",
      "==================================================================================================\n",
      " left_in (InputLayer)        [(None, 14)]                 0         []                            \n",
      "                                                                                                  \n",
      " right_in (InputLayer)       [(None, 14)]                 0         []                            \n",
      "                                                                                                  \n",
      " embedding_3 (Embedding)     (None, 14, 256)              2560000   ['left_in[0][0]']             \n",
      "                                                                                                  \n",
      " embedding_4 (Embedding)     (None, 14, 256)              2560000   ['right_in[0][0]']            \n",
      "                                                                                                  \n",
      " bidirectional (Bidirection  (None, 14, 1024)             3149824   ['embedding_3[0][0]']         \n",
      " al)                                                                                              \n",
      "                                                                                                  \n",
      " bidirectional_1 (Bidirecti  (None, 14, 1024)             3149824   ['embedding_4[0][0]']         \n",
      " onal)                                                                                            \n",
      "                                                                                                  \n",
      " lstm_3 (LSTM)               (None, 128)                  590336    ['bidirectional[0][0]']       \n",
      "                                                                                                  \n",
      " lstm_4 (LSTM)               (None, 128)                  590336    ['bidirectional_1[0][0]']     \n",
      "                                                                                                  \n",
      " concatenate (Concatenate)   (None, 256)                  0         ['lstm_3[0][0]',              \n",
      "                                                                     'lstm_4[0][0]']              \n",
      "                                                                                                  \n",
      " pred (Dense)                (None, 10000)                2570000   ['concatenate[0][0]']         \n",
      "                                                                                                  \n",
      "==================================================================================================\n",
      "Total params: 15170320 (57.87 MB)\n",
      "Trainable params: 15170320 (57.87 MB)\n",
      "Non-trainable params: 0 (0.00 Byte)\n",
      "__________________________________________________________________________________________________\n",
      "None\n",
      "Epoch 1/200\n",
      "57513/57513 [==============================] - ETA: 0s - loss: 4.4164 - accuracy: 0.3255\n",
      "Epoch 1: saving model to model-dual-input/model.01-0.326-0.387\n",
      "57513/57513 [==============================] - 2311s 40ms/step - loss: 4.4164 - accuracy: 0.3255 - val_loss: 3.6688 - val_accuracy: 0.3870\n",
      "Epoch 2/200\n",
      "18810/57513 [========>.....................] - ETA: 25:00 - loss: 3.5495 - accuracy: 0.3951"
     ]
    }
   ],
   "source": [
    "predictors, label = input_sequences[:,:-1], input_sequences[:,-1]\n",
    "predictors_rev, label_rev = input_sequences_reversed[:,:-1], input_sequences_reversed[:,-1]\n",
    "\n",
    "print(predictors[1], label[1])\n",
    "print(predictors_rev[1], label_rev[1])\n",
    "\n",
    "\n",
    "\n",
    "# Input\n",
    "left_input = Input(shape=(max_sequence_len-1,), name=\"left_in\")\n",
    "right_input = Input(shape=(max_sequence_len-1,),  name=\"right_in\")\n",
    "\n",
    "# Embedding\n",
    "left_features = Embedding(vocab_size, 256)(left_input)\n",
    "right_features = Embedding(vocab_size, 256)(right_input)\n",
    "\n",
    "# Bidirectional LSTM\n",
    "left_features = Bidirectional(LSTM(512, return_sequences = True))(left_features)\n",
    "right_features = Bidirectional(LSTM(512, return_sequences = True))(right_features)\n",
    "\n",
    "# LSTM\n",
    "left_features = LSTM(128)(left_features)\n",
    "right_features = LSTM(128)(right_features)\n",
    "\n",
    "# Merge all available features into a single large vector via concatenation\n",
    "concat = concatenate([left_features, right_features], name='concatenate')\n",
    "\n",
    "# Dense - output\n",
    "pred = Dense(vocab_size, activation='softmax', name=\"pred\")(concat)\n",
    "\n",
    "\n",
    "# Instantiate an end-to-end model predicting the next word based on both the left and right inputs\n",
    "model = Model(\n",
    "    inputs = [left_input, right_input],\n",
    "    outputs = pred\n",
    ")\n",
    "\n",
    "\n",
    "model.compile(\n",
    "    optimizer = Adam(),\n",
    "    loss = SparseCategoricalCrossentropy(),\n",
    "    metrics = ['accuracy']\n",
    ")\n",
    "\n",
    "print(model.summary())\n",
    "\n",
    "\n",
    "# Define callbacks\n",
    "my_callbacks = [\n",
    "    EarlyStopping(monitor='val_accuracy', patience=3),\n",
    "    ModelCheckpoint(filepath='model-dual-input/model.{epoch:02d}-{accuracy:.3f}-{val_accuracy:.3f}', verbose=1)\n",
    "]\n",
    "\n",
    "\n",
    "# Train the model\n",
    "model.fit(\n",
    "    {\"left_in\": predictors, \"right_in\": predictors_rev},\n",
    "    {'pred': label},\n",
    "    epochs=200,\n",
    "    batch_size=128,\n",
    "    validation_split=0.02,\n",
    "    callbacks=my_callbacks\n",
    ")\n"
   ]
  },
  {
   "cell_type": "code",
   "execution_count": 2,
   "id": "p9euOI3XF3ms",
   "metadata": {
    "id": "p9euOI3XF3ms"
   },
   "outputs": [],
   "source": [
    "st = ISRIStemmer()"
   ]
  },
  {
   "cell_type": "code",
   "execution_count": 3,
   "id": "142b5597",
   "metadata": {},
   "outputs": [
    {
     "name": "stderr",
     "output_type": "stream",
     "text": [
      "[nltk_data] Downloading package punkt to\n",
      "[nltk_data]     C:\\Users\\mayaa\\AppData\\Roaming\\nltk_data...\n",
      "[nltk_data]   Package punkt is already up-to-date!\n"
     ]
    },
    {
     "data": {
      "text/plain": [
       "True"
      ]
     },
     "execution_count": 3,
     "metadata": {},
     "output_type": "execute_result"
    }
   ],
   "source": [
    "nltk.download('punkt')"
   ]
  },
  {
   "cell_type": "code",
   "execution_count": 3,
   "id": "9f770e5b",
   "metadata": {},
   "outputs": [
    {
     "name": "stdout",
     "output_type": "stream",
     "text": [
      "Loading the spelling the checker model...\n",
      "WARNING:tensorflow:SavedModel saved prior to TF 2.5 detected when loading Keras model. Please ensure that you are saving the model with model.save() or tf.keras.models.save_model(), *NOT* tf.saved_model.save(). To confirm, there should be a file named \"keras_metadata.pb\" in the SavedModel directory.\n"
     ]
    }
   ],
   "source": [
    "print(\"Loading the spelling the checker model...\")\n",
    "model = load_model(\"model\")"
   ]
  },
  {
   "cell_type": "code",
   "execution_count": 4,
   "id": "c30ac0e0",
   "metadata": {},
   "outputs": [
    {
     "name": "stdout",
     "output_type": "stream",
     "text": [
      "Building the tokenizer...\n"
     ]
    }
   ],
   "source": [
    "print(\"Building the tokenizer...\")\n",
    "data_file = \"test_to_eval.csv\"\n",
    "data = open(data_file, encoding='utf-8').read()"
   ]
  },
  {
   "cell_type": "code",
   "execution_count": 5,
   "id": "93821711",
   "metadata": {},
   "outputs": [
    {
     "name": "stdout",
     "output_type": "stream",
     "text": [
      "First sentence in the corpus: <s> التقدم والاشتراكية يستنكر التمادي في تبخيس عمل الأغلبية الحكوميةجددت قيادة التقدم والاشتراكية أسفها العميق لتمادي\n"
     ]
    }
   ],
   "source": [
    "corpus = data.lower().split(\"\\n\")\n",
    "print(\"First sentence in the corpus:\", corpus[0])"
   ]
  },
  {
   "cell_type": "code",
   "execution_count": 9,
   "id": "0ef8c88c",
   "metadata": {},
   "outputs": [],
   "source": [
    "corpus = data.lower().split(\"\\n\")\n",
    "print(\"First sentence in the corpus:\", corpus[0])\n",
    "vocab_size = 100000 \n",
    "max_sequence_len = 15\n",
    "out_of_vocab = \"<unk>\"\n",
    "tokenizer = Tokenizer(num_words=vocab_size, oov_token=out_of_vocab)\n",
    "tokenizer.fit_on_texts(corpus)"
   ]
  },
  {
   "cell_type": "code",
   "execution_count": 10,
   "id": "c5c883b7",
   "metadata": {},
   "outputs": [],
   "source": [
    "def generate_ngrams(text):\n",
    "    text = \"<s>\" + text\n",
    "    \n",
    "    tokens = nltk.word_tokenize(text)\n",
    "    tokens = [token for token in tokens if token not in string.punctuation]\n",
    "\n",
    "    all_grams = []\n",
    "\n",
    "    for n in range(2, len(tokens)+1):\n",
    "        grams = [w for w in nltk.ngrams(tokens, n=n)][0]\n",
    "        \n",
    "        grams_rev = tokens[n:]\n",
    "        grams_rev.reverse()\n",
    "        all_grams.append((list(grams), list(grams_rev)))\n",
    "\n",
    "    return all_grams"
   ]
  },
  {
   "cell_type": "code",
   "execution_count": 11,
   "id": "16e2ccee",
   "metadata": {},
   "outputs": [
    {
     "name": "stdout",
     "output_type": "stream",
     "text": [
      "Accuracy: 0.9832\n",
      "Classification Report:\n",
      "               precision    recall  f1-score   support\n",
      "\n",
      "           0       1.00      0.95      0.97       239\n",
      "           1       0.98      1.00      0.99       477\n",
      "\n",
      "    accuracy                           0.98       716\n",
      "   macro avg       0.99      0.97      0.98       716\n",
      "weighted avg       0.98      0.98      0.98       716\n",
      "\n",
      "Confusion Matrix:\n",
      " [[227  12]\n",
      " [  0 477]]\n",
      "0.9832402234636871               precision    recall  f1-score   support\n",
      "\n",
      "           0       1.00      0.95      0.97       239\n",
      "           1       0.98      1.00      0.99       477\n",
      "\n",
      "    accuracy                           0.98       716\n",
      "   macro avg       0.99      0.97      0.98       716\n",
      "weighted avg       0.98      0.98      0.98       716\n",
      " [[227  12]\n",
      " [  0 477]]\n"
     ]
    }
   ],
   "source": [
    "from sklearn.metrics import accuracy_score, classification_report, confusion_matrix\n",
    "import nltk\n",
    "\n",
    "def evaluate_correction_model(model, texts_to_correct, tokenizer, max_sequence_len, st):\n",
    "\n",
    "    predictions = []\n",
    "    true_labels = []\n",
    "\n",
    "    for text_to_correct in texts_to_correct:\n",
    "#         print(\"Currently correcting:\", text_to_correct)\n",
    "\n",
    "        ngrams = generate_ngrams(text_to_correct)\n",
    "        correct = None\n",
    "        suggestions = []\n",
    "\n",
    "        for ngram in ngrams:\n",
    "            if len(ngram[0]) > 2 and correct != 1 and len(suggestions) != 0:\n",
    "                seed_text_ltr = \" \".join(word for word in ngram[0][:-2]) + \" \" + suggestions[0][2]\n",
    "            else:\n",
    "                seed_text_ltr = \" \".join(word for word in ngram[0][:-1])\n",
    "\n",
    "            current_word = ngram[0][-1]\n",
    "            seed_text_rtl = \" \".join(word for word in ngram[1])\n",
    "\n",
    "            token_list = tokenizer.texts_to_sequences([seed_text_ltr])[0]\n",
    "            token_list = pad_sequences([token_list], maxlen=max_sequence_len-1, padding='pre')\n",
    "\n",
    "            token_list_rev = tokenizer.texts_to_sequences([seed_text_rtl])[0]\n",
    "            token_list_rev = pad_sequences([token_list_rev], maxlen=max_sequence_len-1, padding='pre')\n",
    "\n",
    "            predicted_id = np.argmax(model.predict([token_list, token_list_rev],verbose=0), axis=-1)\n",
    "            predicted_word = tokenizer.sequences_to_texts([predicted_id])[0]\n",
    "\n",
    "            predicted_probs = model.predict([token_list, token_list_rev],verbose=0)\n",
    "            predicted_best = np.argsort(-predicted_probs, axis=-1)[0][:4500]\n",
    "\n",
    "            suggestions = []\n",
    "            correct = None\n",
    "\n",
    "            for prob in predicted_best:\n",
    "                output_word = tokenizer.sequences_to_texts([[prob]])[0]\n",
    "                ed = nltk.edit_distance(current_word, output_word)\n",
    "\n",
    "                if ed == 0:\n",
    "                    correct = 1\n",
    "                    break\n",
    "                elif len(current_word) <= 3 and ed == 1:\n",
    "                    suggestions.append((ed, current_word, output_word))\n",
    "                elif len(current_word) > 3 and ed <= 2:\n",
    "                    suggestions.append((ed, current_word, output_word))\n",
    "                else:\n",
    "                    continue\n",
    "\n",
    "            if len(suggestions) > 0:\n",
    "                for suggest in suggestions:\n",
    "                    lemmas_cw = [suggest[1], st.suf1(suggest[1]), st.suf32(suggest[1]),\n",
    "                                 st.pre1(suggest[1]), st.pre32(suggest[1])]\n",
    "\n",
    "                    lemmas_ow = [suggest[2], st.suf1(suggest[2]), st.suf32(suggest[2]),\n",
    "                                 st.pre1(suggest[2]), st.pre32(suggest[2])]\n",
    "\n",
    "                    if correct != 1 and len(suggest[1]) > 7:\n",
    "                        for l in lemmas_cw:\n",
    "                            if l in lemmas_ow:\n",
    "                                correct = 2\n",
    "                                break\n",
    "\n",
    "        true_labels.append(1 if correct == 1 else 0)\n",
    "        predictions.append(1 if correct == 2 or correct == 1 else 0)\n",
    "\n",
    "    # Calculate and print evaluation metrics\n",
    "    accuracy = accuracy_score(true_labels, predictions)\n",
    "    print(f\"Accuracy: {accuracy:.4f}\")\n",
    "\n",
    "    # Generate and print classification report\n",
    "    report = classification_report(true_labels, predictions)\n",
    "    print(\"Classification Report:\\n\", report)\n",
    "\n",
    "    # Generate and print confusion matrix\n",
    "    confusion_mat = confusion_matrix(true_labels, predictions)\n",
    "    print(\"Confusion Matrix:\\n\", confusion_mat)\n",
    "\n",
    "    return accuracy, report, confusion_mat\n",
    "\n",
    "# Example usage:\n",
    "# Assuming texts_to_correct is a list of texts, and model is your trained model\n",
    "\n",
    "accuracy, report, confusion_mat = evaluate_correction_model(model, corpus[:], tokenizer, max_sequence_len, st)\n",
    "\n",
    "print(accuracy, report, confusion_mat)\n"
   ]
  },
  {
   "cell_type": "code",
   "execution_count": null,
   "id": "aa195a2c",
   "metadata": {},
   "outputs": [],
   "source": [
    "print(\"Building the tokenizer...\")\n",
    "data_file = \"test_to_eval.csv\"\n",
    "data = open(data_file, encoding='utf-8').read()"
   ]
  },
  {
   "cell_type": "code",
   "execution_count": null,
   "id": "a0b054b2",
   "metadata": {},
   "outputs": [],
   "source": [
    "corpus = data.lower().split(\"\\n\")\n",
    "print(\"First sentence in the corpus:\", corpus[0])"
   ]
  },
  {
   "cell_type": "code",
   "execution_count": null,
   "id": "b4c10c79",
   "metadata": {},
   "outputs": [],
   "source": [
    "vocab_size = 100000 \n",
    "max_sequence_len = 15\n",
    "out_of_vocab = \"<unk>\"\n",
    "tokenizer = Tokenizer(num_words=vocab_size, oov_token=out_of_vocab)\n",
    "tokenizer.fit_on_texts(corpus)"
   ]
  },
  {
   "cell_type": "code",
   "execution_count": null,
   "id": "b4f28663",
   "metadata": {},
   "outputs": [],
   "source": [
    "# RWE\n",
    "texts_to_correct = [\"وتدعو الحريق إلى مواصلة التماس الآراء والتعليقات من جميع الجهات المعنية\",\n",
    "                    \"الفعالية المثلي في هذا الصدد تتعزز بالتعاون الدولي الواسع النطاق\",\n",
    "                    \"لم يبدأ تنفيذ خطط العمل الدولية إلا عدد صفير من البلدان\",\n",
    "                    \"توجه السكر إلى الدول الأعضاء\",\n",
    "                    \"التمييز ضد المرأة فيما يتعلق بحصولها على القرود المصرفية\",\n",
    "                    \"تدعيم تلك المناطق في النصف الجنوبي للكرة العرضية والمناطق المجاورة\",\n",
    "                    \"العمارات العربية المتحدة\",\n",
    "                    \"تؤيد فكره عقد مؤتمر للدول الأطراف\",\n",
    "                    \"قدمت مضر مشروع القرار الموصى به في تقرير اللجنة\",\n",
    "                    \"آثار التغييرات في أشعار الصرف ومعدلات التضخم\",\n",
    "                    \"مرسوم مجلس قيادة الثروة\",\n",
    "                    \"إسرار المجتمع الدولي على وضع حد لإفلات مرتكبي هذه الجرائم من العقاب\",\n",
    "                    \"التدخن في الشؤون التي تكون من صميم سيادة الدول\",\n",
    "                    \"زهور حركات عنصرية تدعو إلى العنف\",\n",
    "                    \"تعيد تأكيد حق الشغب الفلسطيني في تقرير المصير\",\n",
    "                    \"تؤكد أن التثقيف في مجال حقوق الإنسان أمر أثاثي في تغيير الاتجاهات\",\n",
    "                    \"المزيد من الجهود لمعالجة الغرق بين أجور الجنسين\",\n",
    "                    \"يقضي بتخفيض شعر الفائدة\",\n",
    "                    \"منظمة الأمم المتحدة للتربية والألم والثقافة\",\n",
    "                    \"حق الشعوب في تقرير المسير وغيره من حقوق الإنسان\",\n",
    "                    ]"
   ]
  },
  {
   "cell_type": "code",
   "execution_count": null,
   "id": "eea8cccc",
   "metadata": {},
   "outputs": [],
   "source": [
    "# NWE\n",
    "texts_to_correct = [\"وتدعو الفريق إلى مواصله التماس الآراء والتعليقات من جميع الجهات المعنية\",\n",
    "                    \"الفعالية المثلى في هذا الصدد تتعززز بالتعاون الدولي الواسع النطاق\",\n",
    "                    \"لم يبدأ تفنيذ خطط العمل الدولية إلا عدد صغير من البلدان\",\n",
    "                    \"توجة الشكر إلى الدول الأعضاء\",\n",
    "                    \"التمييز ضد المرأة فيما يتعلق بحصولها على القروض المرصفية\",\n",
    "                    \"تدعيم تلك المناطق في النصف الجنوبي للكرة الأرظية والمناطق المجاورة\",\n",
    "                    \"اشتركت في تقديمه الأردن والإمارات العربيع المتحدة\",\n",
    "                    \"تؤيد فكرة عقد مؤتمر للدول الأتراف\",\n",
    "                    \"قدمت مصر مشروع القرار المصى به في تقرير اللجنة\",\n",
    "                    \"آثار التغييرات في أسعار الصرف ومعدلت التضخم\",\n",
    "                    \"مرسوم مجلس غيادة الثورة\",\n",
    "                    \"إصرار المجتمع الدولي على وضع حد لإفلات مرتكبي هذه الجرايم من العقاب\",\n",
    "                    \"التدخل في الشؤون التي تكون من صميم يادة الدول\",\n",
    "                    \"ضهور حركات عنصرية تدعو إلى العنف\",\n",
    "                    \"تعيد تأكيد حق الشاعب الفلسطيني في تقرير المصير\",\n",
    "                    \"تؤكد أن التثقيف في مجال حقوق الإنسان أمر أساسي في تايير الاتجاهات\",\n",
    "                    \"المذيد من الجهود لمعالجة الفرق بين أجور الجنسين\",\n",
    "                    \"يقضي بتخفيد سعر الفائدة\",\n",
    "                    \"منظمة الأمم المتحده للتربية والعلم والثقافة\",\n",
    "                    \"حق الشعوب في تقرير المصير وغيره من حقوق الإنثان\"\n",
    "                    ]\n"
   ]
  },
  {
   "cell_type": "code",
   "execution_count": null,
   "id": "2531ccf1",
   "metadata": {},
   "outputs": [],
   "source": [
    "test = generate_ngrams(\"حق الشعوب في تقرير المسير وغيره من حقوق الإنسان\")\n",
    "print(test)\n",
    "for test in test:\n",
    "    print(test)\n",
    "#     print(test[0][-1])\n",
    "    seed_text_ltr = \" \".join(word for word in test[0][:-1])\n",
    "    print()\n",
    "    print('seed_text_ltr ',seed_text_ltr)\n",
    "    print('current word ',test[0][-1])\n",
    "    seed_text_rtl = \" \".join(word for word in test[1])\n",
    "    print('seed_text_rtl ',seed_text_rtl)\n",
    "    token_list = tokenizer.texts_to_sequences([seed_text_ltr])[0]\n",
    "    token_list = pad_sequences([token_list], maxlen=max_sequence_len-1, padding='pre')\n",
    "\n",
    "    token_list_rev = tokenizer.texts_to_sequences([seed_text_rtl])[0]\n",
    "    token_list_rev = pad_sequences([token_list_rev], maxlen=max_sequence_len-1, padding='pre')\n",
    "\n",
    "    \n",
    "    predicted_id = np.argmax(model.predict([token_list, token_list_rev]), axis=-1)\n",
    "    predicted_word = tokenizer.sequences_to_texts([predicted_id])[0]\n",
    "    print(\"predicted_word \",predicted_word)"
   ]
  },
  {
   "cell_type": "code",
   "execution_count": null,
   "id": "d5ef2de7",
   "metadata": {},
   "outputs": [],
   "source": [
    "correct = 2\n",
    "suggestions = []\n",
    "for ngram in test:\n",
    "            \n",
    "    if len(ngram[0]) > 2 and correct != 1 and len(suggestions) != 0:\n",
    "        seed_text_ltr = \" \".join(word for word in ngram[0][:-2]) + \" \" + suggestions[0][2]\n",
    "    else:\n",
    "        seed_text_ltr = \" \".join(word for word in ngram[0][:-1])\n",
    "        \n",
    "print(seed_text_ltr)\n",
    "\n",
    "print( ngram[0][:-1])\n",
    "seed_text_rtl = \" \".join(word for word in ngram[1])\n",
    "# print(ngram[0])"
   ]
  },
  {
   "cell_type": "code",
   "execution_count": null,
   "id": "404dedd3",
   "metadata": {},
   "outputs": [],
   "source": [
    "for text_to_correct in texts_to_correct:\n",
    "    \n",
    "    print(\"Currently correcting:\", text_to_correct)\n",
    "        \n",
    "    ngrams = generate_ngrams(text_to_correct)\n",
    "    correct = None\n",
    "    suggestions = []\n",
    "    \n",
    "    for ngram in ngrams:\n",
    "            \n",
    "        if len(ngram[0]) > 2 and correct != 1 and len(suggestions) != 0:\n",
    "            seed_text_ltr = \" \".join(word for word in ngram[0][:-2]) + \" \" + suggestions[0][2]\n",
    "            print('suggestions[0][2] ',suggestions[0][2])\n",
    "        else:\n",
    "            seed_text_ltr = \" \".join(word for word in ngram[0][:-1])\n",
    "            \n",
    "        print('suggestions ',suggestions)\n",
    "        print('seed_text_ltr ', seed_text_ltr)\n",
    "        \n",
    "        current_word = ngram[0][-1]\n",
    "        print('current_word ', ngram[0][-1])\n",
    "        seed_text_rtl = \" \".join(word for word in ngram[1])\n",
    "        print(seed_text_ltr, \"->\", current_word, \"->\", seed_text_rtl)\n",
    "\n",
    "        token_list = tokenizer.texts_to_sequences([seed_text_ltr])[0]\n",
    "        token_list = pad_sequences([token_list], maxlen=max_sequence_len-1, padding='pre')\n",
    "\n",
    "        token_list_rev = tokenizer.texts_to_sequences([seed_text_rtl])[0]\n",
    "        token_list_rev = pad_sequences([token_list_rev], maxlen=max_sequence_len-1, padding='pre')\n",
    "\n",
    "        predicted_id = np.argmax(model.predict([token_list, token_list_rev]), axis=-1)\n",
    "        predicted_word = tokenizer.sequences_to_texts([predicted_id])[0]\n",
    "        print(\"predicted_word \",predicted_word)\n",
    "\n",
    "\n",
    "        predicted_probs = model.predict([token_list, token_list_rev])\n",
    "        predicted_best = np.argsort(-predicted_probs, axis=-1)[0][:4500]\n",
    "        \n",
    "        suggestions = []\n",
    "        correct = None\n",
    "\n",
    "        for prob in predicted_best:\n",
    "            output_word = tokenizer.sequences_to_texts([[prob]])[0]\n",
    "            ed = nltk.edit_distance(current_word, output_word)\n",
    "\n",
    "            if ed ==0:\n",
    "                print(\"I got this one; it seems correct -->\", current_word, \"=\", output_word)\n",
    "                correct = 1\n",
    "                break\n",
    "            elif len(current_word)<=3 and ed ==1:\n",
    "                suggestions.append((ed, current_word, output_word))\n",
    "            elif len(current_word)>3 and ed <=2:\n",
    "                suggestions.append((ed, current_word, output_word))\n",
    "            else:\n",
    "                continue\n",
    "                \n",
    "        \n",
    "        \n",
    "        if len(suggestions) > 0:  \n",
    "            for suggest in suggestions:\n",
    "                lemmas_cw = []\n",
    "                lemmas_cw.append(suggest[1])\n",
    "                lemmas_cw.append(st.suf1(suggest[1]))\n",
    "                lemmas_cw.append(st.suf32(suggest[1]))\n",
    "                lemmas_cw.append(st.pre1(suggest[1]))\n",
    "                lemmas_cw.append(st.pre32(suggest[1]))\n",
    "                \n",
    "                lemmas_ow = []\n",
    "                lemmas_ow.append(suggest[2])\n",
    "                lemmas_ow.append(st.suf1(suggest[2]))\n",
    "                lemmas_ow.append(st.suf32(suggest[2]))\n",
    "                lemmas_ow.append(st.pre1(suggest[2]))\n",
    "                lemmas_ow.append(st.pre32(suggest[2]))\n",
    "                \n",
    "                if correct != 1 and len(suggest[1]) > 7:\n",
    "                    for l in lemmas_cw:\n",
    "                        if l in lemmas_ow:\n",
    "                            correct = 2\n",
    "                            print(\"I got the lemma; it seems correct -->\", current_word, \"~\", suggest[2])\n",
    "                    \n",
    "      \n",
    "        print(\"Suggestions:\", \" - \".join([suggest[2] for suggest in suggestions]))\n",
    "#         print()\n",
    " \n",
    "\n",
    "        if correct == 2:\n",
    "            print(\"Not sure\")\n",
    "        elif correct == 1:\n",
    "            print(\"CORRECT\")\n",
    "        elif correct != 1 and len(suggestions) > 0:\n",
    "            correct = 0\n",
    "            print(\"WRONG\")\n",
    "        elif correct != 1 and len(suggestions) == 0:\n",
    "            print(\"I do not know!\")\n",
    "\n",
    "\n",
    "        print(\"-------\")\n"
   ]
  },
  {
   "cell_type": "code",
   "execution_count": null,
   "id": "a2506cb2",
   "metadata": {},
   "outputs": [],
   "source": [
    "true_labels = []\n",
    "predicted_labels = []\n",
    "\n",
    "texts_to_correct = []\n",
    "texts_to_correct = []\n",
    "inp = input(texts_to_correct)\n",
    "texts_to_correct.append(inp)\n",
    "\n",
    "for text_to_correct in texts_to_correct:\n",
    "    \n",
    "    print(\"Currently correcting:\", text_to_correct)\n",
    "        \n",
    "    ngrams = generate_ngrams(text_to_correct)\n",
    "    correct = None\n",
    "    suggestions = []\n",
    "    \n",
    "    for ngram in ngrams:\n",
    "            \n",
    "        if len(ngram[0]) > 2 and correct != 1 and len(suggestions) != 0:\n",
    "            seed_text_ltr = \" \".join(word for word in ngram[0][:-2]) + \" \" + suggestions[0][2]\n",
    "        else:\n",
    "            seed_text_ltr = \" \".join(word for word in ngram[0][:-1])\n",
    "        \n",
    "        current_word = ngram[0][-1]\n",
    "        seed_text_rtl = \" \".join(word for word in ngram[1])\n",
    "        print(seed_text_ltr, \"->\", current_word, \"->\", seed_text_rtl)\n",
    "\n",
    "        token_list = tokenizer.texts_to_sequences([seed_text_ltr])[0]\n",
    "        token_list = pad_sequences([token_list], maxlen=max_sequence_len-1, padding='pre')\n",
    "\n",
    "        token_list_rev = tokenizer.texts_to_sequences([seed_text_rtl])[0]\n",
    "        token_list_rev = pad_sequences([token_list_rev], maxlen=max_sequence_len-1, padding='pre')\n",
    "\n",
    "        predicted_id = np.argmax(model.predict([token_list, token_list_rev]), axis=-1)\n",
    "        predicted_word = tokenizer.sequences_to_texts([predicted_id])[0]\n",
    "        print(predicted_word)\n",
    "\n",
    "\n",
    "        predicted_probs = model.predict([token_list, token_list_rev])\n",
    "        predicted_best = np.argsort(-predicted_probs, axis=-1)[0][:4500]\n",
    "        \n",
    "        suggestions = []\n",
    "        correct = None\n",
    "        true_labels.append(current_word)\n",
    "        predicted_labels.append(predicted_word)\n",
    "\n",
    "        for prob in predicted_best:\n",
    "            output_word = tokenizer.sequences_to_texts([[prob]])[0]\n",
    "            ed = nltk.edit_distance(current_word, output_word)\n",
    "\n",
    "            if ed ==0:\n",
    "                print(\"I got this one; it seems correct -->\", current_word, \"=\", output_word)\n",
    "                correct = 1\n",
    "                break\n",
    "            elif len(current_word)<=3 and ed ==1:\n",
    "                suggestions.append((ed, current_word, output_word))\n",
    "            elif len(current_word)>3 and ed <=2:\n",
    "                suggestions.append((ed, current_word, output_word))\n",
    "            else:\n",
    "                continue\n",
    "                \n",
    "        \n",
    "        \n",
    "        if len(suggestions) > 0:  \n",
    "            for suggest in suggestions:\n",
    "                lemmas_cw = []\n",
    "                lemmas_cw.append(suggest[1])\n",
    "                lemmas_cw.append(st.suf1(suggest[1]))\n",
    "                lemmas_cw.append(st.suf32(suggest[1]))\n",
    "                lemmas_cw.append(st.pre1(suggest[1]))\n",
    "                lemmas_cw.append(st.pre32(suggest[1]))\n",
    "                \n",
    "                lemmas_ow = []\n",
    "                lemmas_ow.append(suggest[2])\n",
    "                lemmas_ow.append(st.suf1(suggest[2]))\n",
    "                lemmas_ow.append(st.suf32(suggest[2]))\n",
    "                lemmas_ow.append(st.pre1(suggest[2]))\n",
    "                lemmas_ow.append(st.pre32(suggest[2]))\n",
    "                \n",
    "                if correct != 1 and len(suggest[1]) > 7:\n",
    "                    for l in lemmas_cw:\n",
    "                        if l in lemmas_ow:\n",
    "                            correct = 2\n",
    "                            print(\"I got the lemma; it seems correct -->\", current_word, \"~\", suggest[2])\n",
    "                    \n",
    "\n",
    "        print(\"Suggestions:\", \" - \".join([suggest[2] for suggest in suggestions]))\n",
    "\n",
    "        if correct == 2:\n",
    "            print(\"Not sure\")\n",
    "        elif correct == 1:\n",
    "            print(\"CORRECT\")\n",
    "        elif correct != 1 and len(suggestions) > 0:\n",
    "            correct = 0\n",
    "            print(\"WRONG\")\n",
    "        elif correct != 1 and len(suggestions) == 0:\n",
    "            print(\"I do not know!\")\n",
    "\n",
    "\n",
    "        print(\"-------\")\n"
   ]
  },
  {
   "cell_type": "code",
   "execution_count": null,
   "id": "90b5a90b",
   "metadata": {},
   "outputs": [],
   "source": [
    "import re\n",
    "import string\n",
    "from collections import Counter\n",
    "import numpy as np"
   ]
  },
  {
   "cell_type": "code",
   "execution_count": null,
   "id": "92572e82",
   "metadata": {},
   "outputs": [],
   "source": [
    "def read_corpus(filename):\n",
    "  with open(filename, encoding='utf-8') as file:\n",
    "    lines = file.readlines()\n",
    "    words = []\n",
    "    for line in lines:\n",
    "#         data = open(data_file, encoding='utf-8').read()\n",
    "      words += re.findall(r'\\w+', line.lower())\n",
    "\n",
    "  return words"
   ]
  },
  {
   "cell_type": "code",
   "execution_count": null,
   "id": "06347013",
   "metadata": {},
   "outputs": [],
   "source": [
    "words = read_corpus(\"arabic_dataset_classifiction.csv\")\n",
    "print(f\"There are {len(words)} total words in the corpus\")"
   ]
  },
  {
   "cell_type": "code",
   "execution_count": null,
   "id": "a42ebb9d",
   "metadata": {},
   "outputs": [],
   "source": [
    "vocabs = set(words)\n",
    "print(f\"There are {len(vocabs)} unique words in the vocabulary\")"
   ]
  },
  {
   "cell_type": "code",
   "execution_count": null,
   "id": "b5dd1694",
   "metadata": {},
   "outputs": [],
   "source": [
    "word_counts = Counter(words)\n",
    "print(word_counts[\"يقول\"])"
   ]
  },
  {
   "cell_type": "code",
   "execution_count": null,
   "id": "3d0ed080",
   "metadata": {},
   "outputs": [],
   "source": [
    "total_word_count = float(sum(word_counts.values()))\n",
    "word_probas = {word: word_counts[word] / total_word_count for word in word_counts.keys()}"
   ]
  },
  {
   "cell_type": "code",
   "execution_count": null,
   "id": "47c1f7b1",
   "metadata": {},
   "outputs": [],
   "source": [
    "print(word_probas[\"يقول\"])"
   ]
  },
  {
   "cell_type": "code",
   "execution_count": null,
   "id": "5ebf8c2e",
   "metadata": {},
   "outputs": [],
   "source": [
    "def split(word):\n",
    "  return [(word[:i], word[i:]) for i in range(len(word) + 1)]"
   ]
  },
  {
   "cell_type": "code",
   "execution_count": null,
   "id": "d4389f3e",
   "metadata": {},
   "outputs": [],
   "source": [
    "print(split(\"يقول\"))"
   ]
  },
  {
   "cell_type": "code",
   "execution_count": null,
   "id": "c6a098d7",
   "metadata": {},
   "outputs": [],
   "source": [
    "def delete(word):\n",
    "  return [l + r[1:] for l,r in split(word) if r]"
   ]
  },
  {
   "cell_type": "code",
   "execution_count": null,
   "id": "20fb4690",
   "metadata": {},
   "outputs": [],
   "source": [
    "print(delete(\"يقول\"))"
   ]
  },
  {
   "cell_type": "code",
   "execution_count": null,
   "id": "c5e30d84",
   "metadata": {},
   "outputs": [],
   "source": [
    "def swap(word):\n",
    "  return [l + r[1] + r[0] + r[2:] for l, r in split(word) if len(r)>1]"
   ]
  },
  {
   "cell_type": "code",
   "execution_count": null,
   "id": "fbd0d245",
   "metadata": {},
   "outputs": [],
   "source": [
    "print(swap(\"يقول\"))"
   ]
  },
  {
   "cell_type": "code",
   "execution_count": null,
   "id": "2a355b68",
   "metadata": {},
   "outputs": [],
   "source": [
    "# string.ascii_lowercase\n",
    "arabic_alphabet = 'ابتثجحخدذرزسشصضطظعغفقكلمنهوي'"
   ]
  },
  {
   "cell_type": "code",
   "execution_count": null,
   "id": "fe2bafc5",
   "metadata": {},
   "outputs": [],
   "source": [
    "def replace(word):\n",
    "#   letters = string.ascii_lowercase\n",
    "  letters = arabic_alphabet\n",
    "  return [l + c + r[1:] for l, r in split(word) if r for c in letters]"
   ]
  },
  {
   "cell_type": "code",
   "execution_count": null,
   "id": "9d15fb4c",
   "metadata": {},
   "outputs": [],
   "source": [
    "print(replace(\"يقول\"))"
   ]
  },
  {
   "cell_type": "code",
   "execution_count": null,
   "id": "aab63b16",
   "metadata": {},
   "outputs": [],
   "source": [
    "def insert(word):\n",
    "#   letters = string.ascii_lowercase\n",
    "  letters = arabic_alphabet\n",
    "  return [l + c + r for l, r in split(word) for c in letters]"
   ]
  },
  {
   "cell_type": "code",
   "execution_count": null,
   "id": "d7474c72",
   "metadata": {},
   "outputs": [],
   "source": [
    "print(insert(\"يقول\"))"
   ]
  },
  {
   "cell_type": "code",
   "execution_count": null,
   "id": "ff59cd6e",
   "metadata": {},
   "outputs": [],
   "source": [
    "def edit1(word):\n",
    "  return set(delete(word) + swap(word) + replace(word) + insert(word))"
   ]
  },
  {
   "cell_type": "code",
   "execution_count": null,
   "id": "ca32c258",
   "metadata": {},
   "outputs": [],
   "source": [
    "print(edit1(\"يقول\"))"
   ]
  },
  {
   "cell_type": "code",
   "execution_count": null,
   "id": "cb958a87",
   "metadata": {},
   "outputs": [],
   "source": [
    "def edit2(word):\n",
    "  return set(e2 for e1 in edit1(word) for e2 in edit1(e1))"
   ]
  },
  {
   "cell_type": "code",
   "execution_count": null,
   "id": "2a5b3ecd",
   "metadata": {},
   "outputs": [],
   "source": [
    "print(edit2(\"يقول\"))"
   ]
  },
  {
   "cell_type": "code",
   "execution_count": null,
   "id": "f57d08d7",
   "metadata": {},
   "outputs": [],
   "source": [
    "def correct_spelling(word, vocabulary, word_probabilities):\n",
    "  if word in vocabulary:\n",
    "    print(f\"{word} is already correctly spelt\")\n",
    "    return\n",
    "\n",
    "  suggestions = edit1(word) or edit2(word) or [word]\n",
    "  best_guesses = [w for w in suggestions if w in vocabulary]\n",
    "  return [(w, word_probabilities[w]) for w in best_guesses]"
   ]
  },
  {
   "cell_type": "code",
   "execution_count": null,
   "id": "267116b4",
   "metadata": {},
   "outputs": [],
   "source": [
    "word = \"ؤجاء\"\n",
    "corrections = correct_spelling(word, vocabs, word_probas)\n",
    "\n",
    "if corrections:\n",
    "  print(corrections)\n",
    "  probs = np.array([c[1] for c in corrections])\n",
    "  best_ix = np.argmax(probs)\n",
    "  correct = corrections[best_ix][0]\n",
    "  print(f\"{correct} is suggested for {word}\")"
   ]
  },
  {
   "cell_type": "code",
   "execution_count": null,
   "id": "83218864",
   "metadata": {},
   "outputs": [],
   "source": [
    "class SpellChecker(object):\n",
    "\n",
    "  def __init__(self, corpus_file_path):\n",
    "    with open(corpus_file_path, encoding='utf-8') as file:\n",
    "      lines = file.readlines()\n",
    "      words = []\n",
    "      for line in lines:\n",
    "        words += re.findall(r'\\w+', line.lower())\n",
    "\n",
    "    self.vocabs = set(words)\n",
    "    self.word_counts = Counter(words)\n",
    "    total_words = float(sum(self.word_counts.values()))\n",
    "    self.word_probas = {word: count / total_words for word, count in self.word_counts.items()}\n",
    "    \n",
    "\n",
    "  def _level_one_edits(self, word):\n",
    "    letters = arabic_alphabet\n",
    "    splits = [(word[:i], word[i:]) for i in range(len(word) + 1)]\n",
    "    deletes = [l + r[1:] for l,r in splits if r]\n",
    "    swaps = [l + r[1] + r[0] + r[2:] for l, r in splits if len(r)>1]\n",
    "    replaces = [l + c + r[1:] for l, r in splits if r for c in letters]\n",
    "    inserts = [l + c + r for l, r in splits for c in letters]\n",
    "\n",
    "    return set(deletes + swaps + replaces + inserts)\n",
    "\n",
    "  def _level_two_edits(self, word):\n",
    "    return set(e2 for e1 in self._level_one_edits(word) for e2 in self._level_one_edits(e1))\n",
    "\n",
    "  def check(self, word):\n",
    "    candidates = self._level_one_edits(word) or self._level_two_edits(word) or [word]\n",
    "    valid_candidates = [w for w in candidates if w in self.vocabs]\n",
    "    return sorted([(c, self.word_probas[c]) for c in valid_candidates], key=lambda tup: tup[1], reverse=True)\n"
   ]
  },
  {
   "cell_type": "code",
   "execution_count": null,
   "id": "efaa8523",
   "metadata": {},
   "outputs": [],
   "source": [
    "checker = SpellChecker(\"arabic_dataset_classifiction.csv\")"
   ]
  },
  {
   "cell_type": "code",
   "execution_count": null,
   "id": "41618b2b",
   "metadata": {},
   "outputs": [],
   "source": [
    "checker.check(\"هرام\")"
   ]
  }
 ],
 "metadata": {
  "accelerator": "GPU",
  "colab": {
   "gpuType": "T4",
   "provenance": []
  },
  "kernelspec": {
   "display_name": "Python 3 (ipykernel)",
   "language": "python",
   "name": "python3"
  },
  "language_info": {
   "codemirror_mode": {
    "name": "ipython",
    "version": 3
   },
   "file_extension": ".py",
   "mimetype": "text/x-python",
   "name": "python",
   "nbconvert_exporter": "python",
   "pygments_lexer": "ipython3",
   "version": "3.9.13"
  }
 },
 "nbformat": 4,
 "nbformat_minor": 5
}
